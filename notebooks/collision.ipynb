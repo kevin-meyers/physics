{
 "cells": [
  {
   "cell_type": "code",
   "execution_count": 1,
   "metadata": {},
   "outputs": [],
   "source": [
    "%matplotlib inline\n",
    "import numpy as np\n",
    "import matplotlib.pyplot as plt\n",
    "\n",
    "from matplotlib import animation, rc\n",
    "from IPython.display import HTML"
   ]
  },
  {
   "cell_type": "code",
   "execution_count": 4,
   "metadata": {},
   "outputs": [],
   "source": [
    "points = circle_of(200)"
   ]
  },
  {
   "cell_type": "code",
   "execution_count": 5,
   "metadata": {},
   "outputs": [
    {
     "data": {
      "text/plain": [
       "<matplotlib.collections.PathCollection at 0x7f18c5648350>"
      ]
     },
     "execution_count": 5,
     "metadata": {},
     "output_type": "execute_result"
    },
    {
     "data": {
      "image/png": "[encoded data removed]",
      "text/plain": [
       "<Figure size 432x288 with 1 Axes>"
      ]
     },
     "metadata": {
      "needs_background": "light"
     },
     "output_type": "display_data"
    }
   ],
   "source": [
    "plt.scatter(points[:, 0], points[:, 1])"
   ]
  },
  {
   "cell_type": "code",
   "execution_count": 379,
   "metadata": {},
   "outputs": [],
   "source": [
    "class AssumedSphere:\n",
    "    def __init__(self, mass, v_i, f_i, pos_i, t_i):\n",
    "        self.mass = mass\n",
    "        self.v_i = v_i\n",
    "        self.f_i = f_i\n",
    "        self.pos_i = np.array(pos_i)\n",
    "        self.t_i = t_i\n",
    "\n",
    "        self.points = self.draw()\n",
    "    \n",
    "    @staticmethod\n",
    "    def draw():\n",
    "        return circle_of(10)\n",
    "\n",
    "    @property\n",
    "    def acc(self):\n",
    "        return self.f_i / self.mass\n",
    "    \n",
    "    def vel(self, time):\n",
    "        return self.v_i + self.acc * self.relative_time(time)\n",
    "    \n",
    "    def delta_pos(self, time):\n",
    "        return self.v_i * self.relative_time(time) + .5 * self.acc * np.square(self.relative_time(time)), 0\n",
    "        \n",
    "    def current_pos(self, time):\n",
    "        return self.pos_i + self.delta_pos(time)\n",
    "    \n",
    "    def vis(self, time):\n",
    "        data =  self.points + self.current_pos(time)\n",
    "        \n",
    "        return data[:, 0], data[:, 1]\n",
    "    \n",
    "    def current_momentum(self, time=0):\n",
    "        return self.mass * self.vel(time)\n",
    "    \n",
    "    def relative_time(self, time):\n",
    "        return time - self.t_i\n",
    "    \n",
    "    def current_KE(self, time=0):\n",
    "        return self.mass * np.square(self.vel(time))/2\n",
    "        \n",
    "    def __str__(self):\n",
    "        return f'position: {self.pos_i}, velocity: {self.v_i}, mass: {self.mass}'\n",
    "    \n",
    "    def __repr__(self):\n",
    "        return f'AssumedSphere ({str(self)})'"
   ]
  },
  {
   "cell_type": "markdown",
   "metadata": {},
   "source": [
    "Dont set initial positions properly: dont worry, consider adding time initial"
   ]
  },
  {
   "cell_type": "code",
   "execution_count": 380,
   "metadata": {},
   "outputs": [],
   "source": [
    "def perfectly_inelastic_collision(sphere_1, sphere_2, t):\n",
    "    mass = sphere_1.mass + sphere_2.mass\n",
    "    vel_f = (sphere_1.vel(t) * sphere_1.mass + sphere_2.vel(t) * sphere_2.mass) / mass\n",
    "    force_f = sphere_1.f_i + sphere_2.f_i\n",
    "    pos_f = sphere_1.current_pos(t)\n",
    "    return AssumedSphere(mass, vel_f, force_f, pos_f, t)"
   ]
  },
  {
   "cell_type": "code",
   "execution_count": 381,
   "metadata": {},
   "outputs": [],
   "source": [
    "s_1 = AssumedSphere(3, 4.3, 0, (2000, 0), 0)\n",
    "s_2 = AssumedSphere(2, -2, 0, (9000, 0), 0)"
   ]
  },
  {
   "cell_type": "code",
   "execution_count": 382,
   "metadata": {},
   "outputs": [],
   "source": [
    "out = perfectly_inelastic_collision(s_1, s_2, 0)"
   ]
  },
  {
   "cell_type": "code",
   "execution_count": 383,
   "metadata": {},
   "outputs": [
    {
     "data": {
      "text/plain": [
       "AssumedSphere (position: [2000.    0.], velocity: 1.7799999999999998, mass: 5)"
      ]
     },
     "execution_count": 383,
     "metadata": {},
     "output_type": "execute_result"
    }
   ],
   "source": [
    "out"
   ]
  },
  {
   "cell_type": "code",
   "execution_count": 384,
   "metadata": {},
   "outputs": [
    {
     "data": {
      "text/plain": [
       "8.899999999999999"
      ]
     },
     "execution_count": 384,
     "metadata": {},
     "output_type": "execute_result"
    }
   ],
   "source": [
    "out.current_momentum()"
   ]
  },
  {
   "cell_type": "code",
   "execution_count": 385,
   "metadata": {},
   "outputs": [
    {
     "data": {
      "text/plain": [
       "AssumedSphere (position: [2000.    0.], velocity: 1.7799999999999998, mass: 5)"
      ]
     },
     "execution_count": 385,
     "metadata": {},
     "output_type": "execute_result"
    }
   ],
   "source": [
    "out"
   ]
  },
  {
   "cell_type": "code",
   "execution_count": 386,
   "metadata": {},
   "outputs": [
    {
     "data": {
      "text/plain": [
       "8.899999999999999"
      ]
     },
     "execution_count": 386,
     "metadata": {},
     "output_type": "execute_result"
    }
   ],
   "source": [
    "out.current_momentum()"
   ]
  },
  {
   "cell_type": "code",
   "execution_count": 387,
   "metadata": {},
   "outputs": [
    {
     "data": {
      "text/plain": [
       "31.735"
      ]
     },
     "execution_count": 387,
     "metadata": {},
     "output_type": "execute_result"
    }
   ],
   "source": [
    "(s_1.current_KE() + s_2.current_KE())"
   ]
  },
  {
   "cell_type": "code",
   "execution_count": 388,
   "metadata": {
    "scrolled": true
   },
   "outputs": [
    {
     "data": {
      "text/plain": [
       "7.920999999999998"
      ]
     },
     "execution_count": 388,
     "metadata": {},
     "output_type": "execute_result"
    }
   ],
   "source": [
    "out.current_KE()"
   ]
  },
  {
   "cell_type": "code",
   "execution_count": 389,
   "metadata": {},
   "outputs": [],
   "source": [
    "def quadratic_formula(a, b, c):\n",
    "    return [f(-b, np.sqrt(np.square(b) - 4*a*c))/(2*a) for f in [lambda x, y: x + y, lambda x, y: x - y]]"
   ]
  },
  {
   "cell_type": "code",
   "execution_count": 390,
   "metadata": {},
   "outputs": [],
   "source": [
    "s_1 = AssumedSphere(200, 1, 0, (2000, 0), 0)\n",
    "s_2 = AssumedSphere(1, 0, 0, (9000, 0), 0)"
   ]
  },
  {
   "cell_type": "code",
   "execution_count": 391,
   "metadata": {},
   "outputs": [],
   "source": [
    "def elastic_collision(sphere_1, sphere_2, t=0):\n",
    "    k = sphere_1.mass * np.square(sphere_1.vel(t)) + sphere_2.mass * np.square(sphere_2.vel(t))\n",
    "    c = sphere_1.mass / sphere_2.mass * sphere_1.vel(t) + sphere_2.vel(t)\n",
    "    \n",
    "    v_1fs = quadratic_formula(\n",
    "            sphere_1.mass + np.square(sphere_1.mass)/sphere_2.mass, \n",
    "            -2 * sphere_1.mass * c, \n",
    "            sphere_2.mass * np.square(c) - k\n",
    "        )\n",
    "    \n",
    "    for val in v_1fs:\n",
    "        if not np.isclose(val, sphere_1.vel(t)):\n",
    "            sphere_1.v_i = val\n",
    "    \n",
    "    \n",
    "    sphere_2.v_i = np.sqrt((k - sphere_1.mass * np.square(sphere_1.vel(t))) / sphere_2.mass)\n",
    "    \n",
    "    "
   ]
  },
  {
   "cell_type": "code",
   "execution_count": 454,
   "metadata": {},
   "outputs": [],
   "source": [
    "def collide(sphere_1, sphere_2, t):\n",
    "    s_1_p = sphere_1.current_pos(t)\n",
    "    s_2_p = sphere_2.current_pos(t)\n",
    "    elastic_collision(sphere_1, sphere_2, t)\n",
    "    sphere_1.pos_i = -t * np.array([sphere_1.vel(t), 0]) + s_1_p\n",
    "    sphere_2.pos_i = -t * np.array([sphere_2.vel(t), 0]) + s_2_p\n"
   ]
  },
  {
   "cell_type": "code",
   "execution_count": 437,
   "metadata": {
    "scrolled": true
   },
   "outputs": [],
   "source": [
    "elastic_collision(s_1, s_2)"
   ]
  },
  {
   "cell_type": "code",
   "execution_count": 438,
   "metadata": {},
   "outputs": [
    {
     "data": {
      "text/plain": [
       "AssumedSphere (position: [2000    0], velocity: 0.9900497512437811, mass: 200)"
      ]
     },
     "execution_count": 438,
     "metadata": {},
     "output_type": "execute_result"
    }
   ],
   "source": [
    "s_1"
   ]
  },
  {
   "cell_type": "code",
   "execution_count": 439,
   "metadata": {},
   "outputs": [
    {
     "data": {
      "text/plain": [
       "AssumedSphere (position: [9000    0], velocity: 1.9900497512437787, mass: 1)"
      ]
     },
     "execution_count": 439,
     "metadata": {},
     "output_type": "execute_result"
    }
   ],
   "source": [
    "s_2"
   ]
  },
  {
   "cell_type": "code",
   "execution_count": 440,
   "metadata": {},
   "outputs": [
    {
     "data": {
      "text/plain": [
       "200.00000000000003"
      ]
     },
     "execution_count": 440,
     "metadata": {},
     "output_type": "execute_result"
    }
   ],
   "source": [
    "s_1.current_momentum() + s_2.current_momentum()"
   ]
  },
  {
   "cell_type": "code",
   "execution_count": 441,
   "metadata": {},
   "outputs": [
    {
     "data": {
      "text/plain": [
       "100.0"
      ]
     },
     "execution_count": 441,
     "metadata": {},
     "output_type": "execute_result"
    }
   ],
   "source": [
    " s_1.current_KE() + s_2.current_KE()"
   ]
  },
  {
   "cell_type": "code",
   "execution_count": 442,
   "metadata": {},
   "outputs": [
    {
     "data": {
      "image/png": "[encoded data removed]",
      "text/plain": [
       "<Figure size 432x288 with 1 Axes>"
      ]
     },
     "metadata": {
      "needs_background": "light"
     },
     "output_type": "display_data"
    }
   ],
   "source": [
    "fig, ax = plt.subplots()\n",
    "\n",
    "ax = plt.axes(xlim=(-10, 115), ylim=(-5, 120))\n",
    "\n",
    "line, = ax.plot([], [], lw=2)"
   ]
  },
  {
   "cell_type": "code",
   "execution_count": 443,
   "metadata": {},
   "outputs": [],
   "source": [
    "def circle_of(radius):\n",
    "    points = []\n",
    "    for i in range(2*4*15):\n",
    "        points.append([radius * np.cos(i/15), radius * np.sin(i/15)])\n",
    "    \n",
    "    return np.array(points)"
   ]
  },
  {
   "cell_type": "code",
   "execution_count": 491,
   "metadata": {},
   "outputs": [],
   "source": [
    "def init():\n",
    "    line.set_data([], [])\n",
    "    return (line,)\n",
    "# animation function. This is called sequentially\n",
    "\n",
    "sphere_1 = AssumedSphere(400, 4, 0, (20, 0), 0)\n",
    "sphere_2 = AssumedSphere(200, -3, 0, (90, 0), 0)\n",
    "\n",
    "def animate(t): \n",
    "    # t is a parameter\n",
    "    \n",
    "    # x, y values to be plotted \n",
    "    \n",
    "    # appending new points to x, y axes points list \n",
    "    if sphere_2.current_pos(t)[0] - sphere_1.current_pos(t)[0] <= 20 and not triggered:\n",
    "        collide(sphere_1, sphere_2, t)\n",
    "    \n",
    "    xs = []\n",
    "    ys = []\n",
    "    for x_set, y_set in [sphere_1.vis(t), sphere_2.vis(t)]:\n",
    "        xs.extend(x_set)\n",
    "        ys.extend(y_set)\n",
    "    line.set_data(xs, ys)\n",
    "\n",
    "    return line, "
   ]
  },
  {
   "cell_type": "code",
   "execution_count": 492,
   "metadata": {},
   "outputs": [],
   "source": [
    "anim = animation.FuncAnimation(fig, animate, init_func=init,\n",
    "                               frames=70, interval=100, blit=True)"
   ]
  },
  {
   "cell_type": "code",
   "execution_count": 493,
   "metadata": {},
   "outputs": [
    {
     "data": {
      "text/html": [
       "<video width=\"432\" height=\"288\" controls autoplay loop>\n",
       "  <source type=\"video/mp4\" src=\"data:video/mp4;base64,AAAAHGZ0eXBNNFYgAAACAGlzb21pc28yYXZjMQAAAAhmcmVlAABAUW1kYXQAAAKuBgX//6rcRem9\n",
       "5tlIt5Ys2CDZI+7veDI2NCAtIGNvcmUgMTU1IHIyOTE3IDBhODRkOTggLSBILjI2NC9NUEVHLTQg\n",
       "QVZDIGNvZGVjIC0gQ29weWxlZnQgMjAwMy0yMDE4IC0gaHR0cDovL3d3dy52aWRlb2xhbi5vcmcv\n",
       "eDI2NC5odG1sIC0gb3B0aW9uczogY2FiYWM9MSByZWY9MyBkZWJsb2NrPTE6MDowIGFuYWx5c2U9\n",
       "MHgzOjB4MTEzIG1lPWhleCBzdWJtZT03IHBzeT0xIHBzeV9yZD0xLjAwOjAuMDAgbWl4ZWRfcmVm\n",
       "PTEgbWVfcmFuZ2U9MTYgY2hyb21hX21lPTEgdHJlbGxpcz0xIDh4OGRjdD0xIGNxbT0wIGRlYWR6\n",
       "b25lPTIxLDExIGZhc3RfcHNraXA9MSBjaHJvbWFfcXBfb2Zmc2V0PS0yIHRocmVhZHM9OSBsb29r\n",
       "YWhlYWRfdGhyZWFkcz0xIHNsaWNlZF90aHJlYWRzPTAgbnI9MCBkZWNpbWF0ZT0xIGludGVybGFj\n",
       "ZWQ9MCBibHVyYXlfY29tcGF0PTAgY29uc3RyYWluZWRfaW50cmE9MCBiZnJhbWVzPTMgYl9weXJh\n",
       "bWlkPTIgYl9hZGFwdD0xIGJfYmlhcz0wIGRpcmVjdD0xIHdlaWdodGI9MSBvcGVuX2dvcD0wIHdl\n",
       "aWdodHA9MiBrZXlpbnQ9MjUwIGtleWludF9taW49MTAgc2NlbmVjdXQ9NDAgaW50cmFfcmVmcmVz\n",
       "aD0wIHJjX2xvb2thaGVhZD00MCByYz1jcmYgbWJ0cmVlPTEgY3JmPTIzLjAgcWNvbXA9MC42MCBx\n",
       "cG1pbj0wIHFwbWF4PTY5IHFwc3RlcD00IGlwX3JhdGlvPTEuNDAgYXE9MToxLjAwAIAAAAypZYiE\n",
       "ABD//veBvzLLXyK6yXH5530srM885DxyXYmuuNAAAAMADPKH8Ew/gBiAgErgrgtc/5BHTlQDmelx\n",
       "bcQdCCW7utYuK/pViF7T1EJ4S2qWJQTMGnO4uXEwiWGjDBv9gaPylw6bC01axQPz4EAAAAenMI3a\n",
       "HoUJ/PH4yiIYQQ2eC9B+pn5wIXwN3icyTQeUeB0IrrRDKOa9qKLYaV5EojKqRw7yakvxox5eTtDo\n",
       "qSNL6aU2hhecKNfQzm187aFHmk3hhUt6CmVCLttGPmfFPbjXgy7jPXahnKETNFoPevlWb05IBs1O\n",
       "AkUvzJufIx9xPjgDXKJnB7JFWThwlNSi8xOSLQknAUQz2NXkBZX6hiaPALvBQJwSxCm84dFYACU+\n",
       "qflIt2l9SuOW8DnStHO4q8epUdkEKP5rTEeN1YAKz/TwVEjs0A0Qgjx4eR5eeRCGIxvkEDb9+kT+\n",
       "nMawRQTG1MSTt6HY1ZWss+UCLWf5pKp5ra7iUid7rw9B3T1O3srCwH2R7vA0mqMhPF33k3JkUdwI\n",
       "DVmg/zL+vkHljWFd7wcI0mkUJyphmjkIpRJhY895h8a3Sm7c/raByCtHEMOz+0RVviABa0zRJy8g\n",
       "U0MVLKLeTqLymVos6e7ZiFrSj8vpsYaobju5Ijbw8Dqa51gCIwANGh65gi/lmzDOrdmMk0fgdkYS\n",
       "K1Z2kMH4jisF/j1PuOyA9Xd2g9K0fnQPxDS40s1LJOQR+ZiqWH25fogtiALKt+xFvmrGTDxVYaRr\n",
       "5P1INsZnjrxwAz5P+J8fxdf1dcMov/3Hc6J1JCpEWC2RIKNTHY41yrVQQ4AYBVmRu9UrdxvkbKFF\n",
       "QRSGQXATnvNW88ozg/u9IYgTlLHVVfId1F+uku9H/05sOTjjWHcVTzxeSKGSKl8Qe/pMnvglMUvU\n",
       "Rr+RMoG8Voom/QfLCqNKzObcv9a0G4M7nz5hf+6xucR4YKpcVmtaPCb/Tg8bBW0YnaPkqQxE58ff\n",
       "aRdAvMLa8a+mc2U5HRXPdwN73TXCu5Q//7vIuKKU5HM+hFpxAACiOENxTF8vmRZcYo+XsIBrbh1g\n",
       "kgXeWZ/SD0BNAnHySto9v66dCGgnyMe1G4qAnaqL3QmNN4eekhahny4Vj/mer851JVNof5r7QpN+\n",
       "ly4P2s3zljdMh1n84ZrO9AuFwMaU5qBNnesgj6x+Ul558ajvEgM8f98eSx2pJJJSmfL7veMhETPR\n",
       "OFHTKRRPI07nMTRC70zZwx1OEaVBoLTV+B4kmafjhWX00qXLoh2jpjnGdzrU9UnjFn8PZtPnsSHj\n",
       "Jw8/51aych1rdoK3wgAJEPlLVTdhEpDSEgMq3Ukn/PlkiyO0+G87Rl9/orh5NOwojxHw0+vx0Goa\n",
       "VIgc1a/bF62LbakNPd+/ANiZWHgdflZAlrTZlPl6tC2O7pxkHn+PQ35PVaskbNdYwn5+5JPbBbnS\n",
       "bwE/ODw+RI6x3P8WM+mzS9yfyp2MTk7zY8tJ2JgK8bRZ5oHxv7N6Rd0zeWSuablYesIzqe9E/Yjv\n",
       "cfl4qT//IBc7Bz+raodjvaLBnua45pmna6ha1VflOc7QorVAW0j+8yZ/azalDzQYO+G1220omh7s\n",
       "7OYeSC0cpc5W13ol7v5cWFyzuIUwAF2Jfr22u9ZWP83LRAtLjsz72TWWp+I6F9wRoW+0r3/Y8lyY\n",
       "m8/Z4PCHk2l8FZSZlUPXKnj4ohEVKmUx5k4XxSEXiCClk0Vcn530pjySfdFiDLGP2yvOl+iAwTIK\n",
       "VoD9/UWG3pjeMwQHZ5uK72I+pV/0jcChTJtLeRjHzdZ3yTdYO7F0w9wMpkTdov/dXmBO/+o/F9XW\n",
       "MYQmk751plHTlEqsvIkhp/t+zvGpDwLDrxlm3Gek9/+8Fm/R+l/SzT40i3IfTUK9t/b/FlkTbEeW\n",
       "2KdXj+0uQnqUlWm/Imj65fAd96nQGaVTUlTG/FCyOx3YMW92AkXXMhjxRRH96UgKsRb9OqG1Cz4v\n",
       "ZDzOi3X6UZWfxJ8rAsvcONBZjUnXBqO51lUYXg/NkMeXUMt5/qo4TpBZbIKioylnJ3joQ9DfZNZs\n",
       "eOpXOXfNDvnS20EtFgvSwTyuO4i41k0TBFV19omYs1GoezMhW8bQR4DsWfBnP9qSOWZnPo8mcvgP\n",
       "a0x1uM4j9NrJsB95Q+TIoz6u/aGS+UqME8K/MW0xdkAGFLmfjkt1xjsnmipuox+fNprRo6M3Rnq4\n",
       "YDfW6zuQv3VXFG47GoPwi7XaynDVoRv/RHGcc41NvwI4FOrghz6u7ClL9vrTQHi+mmDij88b7GMl\n",
       "ZQqqoDCl86NvetF7tc9U5ceVlP2lArFOARYE8f4jJVAdGnvycs84cyUqhphADnzSztWHyvSu8LjZ\n",
       "DFQOGQ+OACs11KNa9ReFmFBo7WJ0i6Oyl092Szw5WCLxOW976tDuhIv0rGnT4g11G55gaaGO0oHJ\n",
       "2uXhmW6tVladDuJD5TTrlIY0zMRioEDW5Eou7Zh3MrU6KP+IpSlyCYmIc30ZzxJvCjf+aO91/3ph\n",
       "KNXvjKdnCMTco67rOhoK9HiXJ/xZRsPZpYhBKvqYf//y1nCjbYK5vI+ClQSFfBMiQbbegbRjLL8s\n",
       "MjZGzudvzK5lGOJEpTX/GevwEdzpl9QfUKmk/pJ9nJJK1UJUNMUaVi07ccLTgB8XTAfDiSFwgadJ\n",
       "LRCsRGl0+Pr8veeA3UnBM3h0H6tRjrtGZ+ft7msg1lKsBpwImifdBxTbENAuqTM1eDaAQrag4dS0\n",
       "Z1jtVtmvAysqDB5Vohpmj77jJNjJcDb8fMc/qly6jqHMqL29gKwuqMT4550fYu5gNmo2M2wkmIFo\n",
       "YJ8oLSk7v3Ksrj7tijyMa1c8WaMo6FIgbizfqLKgAxED5l0pTfzw5nLTOL1BCl14VcjV4oAuj3x6\n",
       "PZx+2y1himBmU/d8H43dlse7iKeaQAbod6f8Go1u3biE6fUqFdsAJyhGYFBS/f1QzbF3hAHt+oRU\n",
       "vu9XPPLpBS1QTh+rDRQhbbkML1/CjkbFqallAtNLNgu+wlufv1eWzw3tdiSt+YDVxg/bmtTnJluC\n",
       "euk/oiKVDWoeeLAQo/k328cBDnOXZC5rYBZ/4Z4AJmSzmsJ8aLDB6YLLnlxt3ePOS0d4wVp1s6ui\n",
       "/Qb9B1ZSxzpdc9+JuE0EoGJKvF4CDI9RlxYB18rPoW7BKkXd0tyD82dnl18LWnJmk4xqJH46jQg7\n",
       "S/t3xGdc/BtcL6CoGDfhpNiQoWEflQmGULFGUoeIzLnVf6Dmg0wwXcc2csNNRYXcRJBSDqWli/B8\n",
       "68yqNQlXe9VPofyWMXnNBXne8j5OgLsRGZuNpUFLilJYQtm14p0bWUrZiYyQeUMcG2omOUWQ5UsP\n",
       "BD8WQJUwlnLyUAcHA8VuxngK5uvvY5+2EkD84A6eZPMeYKpV2OoH8WXDI/40SAinWiTNxCsLBdq6\n",
       "uZ3TlQdu8XqVRlCg5cEhQxbWgB+PKSk1hQiZPsnwXP/lK59/k26KyKEH6RxgFOB0/x6RqVTqKKIh\n",
       "jKuG6CsYPtyTIlis6f1gsDkQG0jZz5LOhA5xV1cnd1e6sy6tS5yEPlnE/NYDmK8fcU0me5RDFiHc\n",
       "B0cdEGyC1EQqzusf+lT95XrdtfPGQ+sEW7WhEiUCLQ/asIbSBdiw89ZhZew5Uuw+TOAi1/4IBsXA\n",
       "aWrpAgWXhODtEihKWXhnl6WuTHcquhZihcH1hO3wbPZz17gSnSzuraS8LBejuMDR2pdvtQmis9fZ\n",
       "B0JMNdSvb1pEmTJGjlSQmVxgFI08ixPDrNIlvv5ruYsfRAceYP72jaFFUZU1y6dlO64EGrdd6JfS\n",
       "MHBkJ3VSOGdZdovRNMrNJxfsUno6zGiFuvDDOvcvBTSCQdp0vBFfzjOk5LZw3Y8hCNhzdU5LG4XL\n",
       "2ljd3S46troOMA81PpmHMcTB+Zw7f6QIStoFOqpJ4fZHNgXtZu3PTYOrXtfZxtLTrtmmxcAx55ix\n",
       "trF7AId7wPwTzaomyXpoBcmgNEjYhIA06CfZUIs8i5kz1ezWyaQDW6gUMxf33WEkDd9Wt8WzZg+X\n",
       "xJulMV3LZnhzxnnkj1xwfoQs7ExaxkOVM3GrfUN4lstoGzt7gH73LTuTJpAJJQbZEsWpD6ldcEPX\n",
       "4/VRHEhkE10GA2Ao1c7J8zthgMXnzLiLrSlYmjXJEJtvBMa5DJzaYzpbU3pgw9tvpiNrFHzm0z36\n",
       "00m7hlR/wvctAF7pUneGf15kp+Fa5rJpBuyHgEwREl/uLqBzfY81VDk0A7mBMs/xcjYrNS5NZXdK\n",
       "30YIusj76fvf7AB1EodrSZ2PxTMqDfa7c2egwGifjt5CR90JjgAYj8Rp3UpXywAAAeZBmiJsQQ/+\n",
       "qlUARRkGkAGPJ9QkWCWpGxJ8M/OqNqHWDYrRnB2GW7Lz5mZJb6FLz641HLIrWYWoVPzLbpYurgEf\n",
       "7uPwdovzekcOg5RDtR1bV/ph+EaYr8N2v7/B0yK9QhwAj/FykySu6aiUZDPG10d4jnN+q1Qxbp2B\n",
       "tCu3ssmu8DUdEK+ynMvlDTwVMyCNJTD7rQ0PE973WT7itgP9RHY8O0ZpRsyuEHsRMLwrv+1wEsVN\n",
       "2kiW4kRTSGMRXTmKY6+BeKBxmfbEs5J/XtStSaBYbRQLAG7k0NeLfVjQj+PNFKycGOGwUJGsSoiL\n",
       "jUwowrkrHalp/ArWEA3X/6LlAHimbC19sSdVdJUrZ5Zpx+8iTjHEK0N2qM5fjj1/zJEMLCeQM18y\n",
       "jxoDiDwEUGDrdrr1nZpwj7EsC/+sk21m0hUdcb2u/pyhys7hncPQBT5ZNQCkn+T6XtiGlRGkUcda\n",
       "BQ6n+Bf4+32Tn/pz+WKDVa5CDLKaNX1Ojew4nupDvbtoTjRV7uSHYFOLygMLMEiuUumDjjWdjz1n\n",
       "JFxkt/A0aJpSV6uILLesVly1VuvX2TVbNiZM69m4FKOPGWJ/Gr7eCs+8DJHTUQIILMmaly3H9Cw5\n",
       "BbyU9iz8rwbDPIdfUL31wNRt6HOmNUAAAACcAZ5BeQ3/Ac5bMypcMa20Ej2hPuaF/nXT6ot8itHs\n",
       "k7gxoj2+tuSAD/LY1GEclFhr88l79wBStPWjLsSPxN4GUT0NHEYfGB1P1vVEMqTghGTvmY+3+8Ox\n",
       "+dqPrlfORwpuDtx+0PFnkabMrfF4WysddwlUoVynaF0vm+lmHLeeQOzPphgHal6UPFk7P91AmBCx\n",
       "PdS4X9t29hhIZ2zfAAAA5UGaQzwhkymEEP/+qlUAAAMDKXkYkvgACUl3ABfrOkXLxGU18qdsMUCO\n",
       "/On3IsIGx+/D2Jebh4LVlygEtj2ednGQMCDI3QLZSeop6dJnS3XwMkzxccrTUeqMrodvrYT4q6A1\n",
       "cdpmN7eIPO0VDJ8y7i3wPX2p1j0T90HUy4l73BTL25I3uzzru1pyFCN3UBfWKbc5PEmJllDTZ66z\n",
       "99MiNgrhPfpV/NO0akf/9/gsGOwtl/6HFGfMyNLtw3gbQj/2cwe337f95ccrI2/bv8QNyIiP14BQ\n",
       "tcBB2vzL+Ym461JNmQZyRSAAAAEEQZpkSeEPJlMCCP/+tSqAAAMBy/GO/fv08Q3BU5qJUuVzAA0B\n",
       "ck08s3k3KkN3xHnVxgN9JHESUmGkrbBOKhpoDNhQGwLiqKL3cwxycjUDeAiFAe4O1ZStewCT5ulp\n",
       "8xdEvJWZ8PsJjDEV2be7eUHxDUelwUS0ftBoXWFLBKrjc4VHmbwsoSFPb8UH9ZAfgwFSdI5qY1aR\n",
       "9RGqsJ3JWcUQ2M05eav0IRcp2zWAMXZgOPzacG2EJWAomf3hv9UyDy2F2naJO9Ioyk5o4g9G40Ag\n",
       "wyRT0Nssv6eE/60MECoDQd1kDuqFrWzrTFfa838npQkoSBucZrmWxKkFqL6djpLrye7+GL8AAAHf\n",
       "QZqGSeEPJlMFETwR//61KoAAAtvo+YHjlp/QmShePm6+s8jqofTL70jlM1QRAehdib0BMOuEszQA\n",
       "2Hi0sRGr30kv5joOL+OT8SOmhurKtbWBKJ+sieJQe4U78NRcUZnd4MH3VGCF+cHqhrfD9A0uh93u\n",
       "vGyMzW3+8MP83pfe6iNu865QmHd82mmtQzCNoz2a7fJxqO4naQV5DA/uVg19A+TcMdQ8058mk2DN\n",
       "ImxL/4ZSBIS90rHHpSGK6lAXF4wh15D4j33lYVV8xqrR9xWOG19W6oR3mjuMUzFjQTV+8EFm+zq8\n",
       "VFhKjApSITg0V8tJSS9D584btKra3ZHam1eEehEQuXxkICzBwAoHZ519J5eFeupodvgofHTyHNhD\n",
       "zfLY0JBDhkBN0V7zn+JAZluXnlOjum66zxpMM8waSy0VnHlbASu3OPbJ2E7kBgU0ighQV+uG5Jnw\n",
       "UDoGcX5pt7sDNMQmv9OenbCPz7cHBICIM0hajFDq+6tSAQE+MEtLfw3Rlz/sAUeWQDusOPRmsdCX\n",
       "ASR1v7JSXMcjqh2d5rzdek7mL97odOJ/I3xJrJ+Cv4wvAIIhnpx6l6VZayeNQhcbp5pc27myTkjZ\n",
       "heb8t0hURwdk0Nay13SYbOqqN/KCQUEAAACeAZ6lakN/AAAPMUZjU7Tv8KXabhtrF99hR0J2akAE\n",
       "7ea35Oz+B1N85bIDQpwSlVYXQQyyPKZSfpGBLcPrFmkJxFlALqQ9SKMY5F1ZoRgPfbCXWBoPI7kF\n",
       "RTkhrFQ4UZ0DaxlGU145pj5S0eeBARpncfCcJ36fi6I609hNRj350hdKjPvdgW4/U9L+CW0hCu+P\n",
       "Ey/yPeeoSvIyBBzwY6EAAAEJQZqqSeEPJlMCCP/+tSqAAALf9BiB0oRIbG4Jl2U1YcB+I7JURg+8\n",
       "wV67yrE8I8t8thvc4tc/fn7q8h2Ysds851W6VmwzyLqQBkckjhGP90p78QWqAfA/gMf0A0+SlAJu\n",
       "532wLxjfVAPHUzooqwT//ePn/rMzj3vOMW8Lze+lgRCy9EstsjETMeggEBfstQ+Rq/JtEd8d7QKh\n",
       "XcMS1ltwZY5gmdmGhVrI0GVkXOO3j+RuoSSrtMDm5+4Oz2d5GkhajdQybcwLa+ZMSR9Dp0DFzGbG\n",
       "652uVGCAtRASai40RRBc7LCBRwUxgZFOw0TGNiIYDG74UKF5PCr890N5v3OZKPm7al45LarV+wAA\n",
       "AY5BnshFETw7/wA4aWckE97lF6flL7veAu97VewcRMOGVTyreOH8SIAtX6XouoAAFyzGA0Z8YyGw\n",
       "p/YS9pg/Ib4nMnrap3hcuvQ/tBTymjH5CPmCGbcFcdAqXf5fpYelifmSrCZ7zN3aK3rdPYQahKbF\n",
       "C/pY1Lb6owBpz7pOHuarUTfKZu2Z2WLuZsgCqR0zUthl7IBA0ZhEHsX8Oie70uEbeD32b8AqnZa7\n",
       "jIcqb9DcmlyY9Ye0vPVEjq7wHGdaQCL3duXhPti0zeHdLNEoeHT8eH68hdSsP2QydxoLn+AKHxxZ\n",
       "buSmrnVChvU7vZA9u4J92yTWMXftsALrdohzr4xoEUNJcFcIWC48IRGftcZBTNvLE3pdHhvc7gS4\n",
       "QSGv2/uBP9/j/SnuALWWDOKXVdfSQhfO660eQ6Y8h2MdfPbDAvDf/EjslyGKBcJV00EvquTvj/Uu\n",
       "OYK1desyeGobp3Wj9h/vMzr5mbATlL5VrqZ6Qd+HXscHvTUJpeoq3UnFQoRBh2fH2L+L4lRo2uwa\n",
       "0AAAAP4Bnud0Q38AUc75FOfRhRC46pSCMfE6lt5R+02nm4HH7MAH9Bf5sXT+lqpJa1lLWfAAsgLO\n",
       "i7nwpADf/pG50CLeo1TxBqSF/ZMVZYdlSti09SJW1q9MQbBqq82M3hPJm2o7wVi+h8ZG36P2KFqu\n",
       "1MAswh7hg+55WDHFtEYsM9cWGiR4DZ3GkerUZrynat2qcEppVLMCH3kWawaxFEek1DpDRGQQCXEP\n",
       "kGLioa6TEpF2CS6lQ+qPqI/vxj4mxWVZ6dm8CDu6JroltPHM2vWL+4JkTeF6xDpRwfzgJRYovJeR\n",
       "30K0VIko48hwM/lhr8NQMTu/qItwglZ6FWknKmYMeAAAANgBnulqQ38AUd6EoKC9IrVHFN3qN8Yv\n",
       "2JZoDwvTj7B2kmOVQAJ1O2SjQxUCh1RMTUvOvGxlkKmhnSZ1upVs/ucDYBUXLxnzupHunjqbFp61\n",
       "zG0DVaASTzes5aICCVVq9oEBMJIOmlwEEyZPB9vkmSE0vgd8Na7fTTmZBFgXa+FtEdXo8Izqv9T/\n",
       "mYWdNG2J/Me75WPSvPujwXTYFFkG9Q/xMf61+MEB+FEw4nu/oPQtB2GgA6cy4Cyit4oyR/7expW6\n",
       "I2v5HbgMK/+2AgGP/kHNidqcfXENjCkAAAOVQZruSahBaJlMCCP//rUqgAAChfQYZfEHYPMEq7+I\n",
       "Ts8aD/9bI3J4941lONuDsY1Q24EVeQ0bRUbrnZvo3cF/Q0+NuXkYeppzPX0TktZvpvQowMHGIwUZ\n",
       "LSTs0Lq1I3DkX43NLneJn0wm/VZKeKVquy+b6klKtk6Gv9183LsY2AWt06pWT6jJ4j5ZsifRhMjJ\n",
       "5HXHIk1KHxbHHNRNnq7pXaIgNDDznpbq1mSpSdRcrAc0ZzafBYUlGZZrPw+EN0LcA1c9Kyfz0tGC\n",
       "Q6fJ7k9jB0aAmDyw+4dcF6AvII8lKH6LOJi9WHb+f8WCmkkEbMSOjViGt82+HyRY7PyMUUVu8GR7\n",
       "ozB6pMmdY80OQikLoTgMW319OsAQMEktufp1ocps+5m2r9kN6DGBLhTjvF0Re04Gavx8gBKfNoMq\n",
       "Jn80QDsXSDyA/OSdjDxvKlRifZstE1k7kKQZ3OhJnuG4Ce8hYP/Bxl74IzCPzBuLi04zAl9JtSDk\n",
       "X1QkCiB6ANIGry1+z09q42GcJmJ2P7tcoqVbRU7G1yirIG3dwVBoMALKOeT71HD0dcIhapK+/g78\n",
       "+fyFWUnJ5nEW3K8Y2Ly6U7DD2ydqUFJFdWmvUxNROkrZfnkXhN4LT0sNwY5nwSrgZz2qxzLoQdht\n",
       "IEPbnN5Q83fbkVFzQNJbRsSLTAlHEjWgiWLMzpZ2bK71Pj2/4GD1oGFwdFLSfZSFlawHdYcZ4/E2\n",
       "ni+rR3o+Se28JxScDG+t50eoH7d0IgHKs3b9xKzHL4rtAHXmadtTD2tB6mJBqNb5iVdMfh6qk82x\n",
       "ZgSKA84MIkdz3RlSH8KvNl6231kn8t/lwEPwkRC+dTXdwVICO29LTAWpiZ7+2wDEEsO8OeOZfg+0\n",
       "mHqKXGa7kCdZ0MekqKP9E48bxYpYf+TGfKElTt3l60VjAvXF6sls5tXFWB40KkvBhBt6iqJhw5Sa\n",
       "6gbn88Y/6XoFA6IIv4TmQc4PAD2ObpIJ0cEA3b/0ouG7SfovFndRNsgoepWNNL5BWqfYSKXPjYlh\n",
       "T+ILNcFkY9KQ+U+sZlECN7x5Tlc5ne5mj9S5tqfjJwgmK1sVc0qeekbpm/iTE8Xnfv1mOmmvo8Gd\n",
       "BC7/hddbulpbfTabZTi/85swNOaCjvl53Kz7R2SUL8mSATVP4V/QRICRXzkmbBBrqaF/xp0JZ49k\n",
       "OrCkvldlbRXSBmoqqQpIwmHhynQlOVFmeyTwNlGaaZwAAAI6QZ8MRREsO/8AOQRp5CGyrv+piwML\n",
       "wDVAfxgai4MLx2gANzv92XsKFzyajaK8PyATrQQBOQ2As+piOBkfQIHiEXRM1m/BVho2ZLgPjnvT\n",
       "UWOeJOe/vcapD3u2RN/SVQKvNvpFakF8n/nkn9MH+MljHBLXWK39ymaNBYwIjMmfxrgznQ38m0eX\n",
       "ZxMpPR+ZTOVwE1Gbfr5AF/4Xe44lQLzH4e2BCsNZHK749rxOTnTsGlBmy2VQ/oe4bM/62bMHxaa8\n",
       "6U2lZUekgtIOMgmJHlpytNYbAA96PbAt5gLDGe345LcOR/EQ9Hze+tkVSObKdPiaf2HUMxEnwxPb\n",
       "57T9YQFa8zchaLU/j7aP1qnAtFW/tdcNd7biSirDeft0df+RlqKagObG89WcnXwETvLPKJCBGIqv\n",
       "6EzYByRVW3J1KV/IviFp+YXoKomDAc9HJ/vKxKTDc2HwIbUyaHthDnSlc1o4UYEK/jTRM6wPtFkQ\n",
       "pufkdbc2aqgL+l7ruUibGxV9Xd0zYUurrfbt7deVU2nPkxkWhyRWI9NmH739qRU9XeDU4W4/LKPC\n",
       "qlHbgJQFjr8LGWbfbLNLIe7k47/OgJIDTPH36CZhVMQazweWp74l30wtt5dnsLbUr1QeaMFfHzNB\n",
       "byo20HPZ7PSMwCO0hlSVCNNfGXsuRJ9JVJaCs0XLQB7iK628ahBdk9SIZe/ehj5YJc7od6wwTpz+\n",
       "he/khzp8komCE6ZCZNcNp3WqGRG4aCbJu9aOgReWv0ak7npAAAAApAGfK3RDfwBRzvkU59GFELjO\n",
       "EcdCx4x8/PHZJZSn1X8FuJDAHACE0qU/ThUPO1USx7kxOVX1JTViNFChyOK2PyUR0ktHMoRWpl45\n",
       "fS121h0dfZDcnd3++TrrlmRE8QmMEp/a+i6rGK/3WzJZejYiUX4j2woNiXv03mpFRaRea7NXDiF8\n",
       "9acBkdkCc1utsVfap/DpaYW+/o+ZFCM8QIHQzXRK6HPBAAAArgGfLWpDfwBR3oSgoL0itUcKRYhf\n",
       "Dh/RGTJouUsvXYB0fTmytYANmh+CMQxWdKv3vjcv3YmBQarCXBQ+QETMqRwIlfoHnxGawT9IcCA3\n",
       "kiMqw1jtkJJLCMz/yeXDHoEvhE2H48sioJu45cgCtzsusUargJgJr4EgLmo+IafBLG7wnJKeWury\n",
       "2oRsQNI8yQXTZxYOSFQrJlq/3+QyE/AT06w8z3g437NvvolFBNkJXwAAAh9BmzFJqEFsmUwII//+\n",
       "tSqAAAIz9m62DOW1VW314AjyZMBvfSLMdSPc30MSSjGaDXXg9bkSJOf6LYG8RRV8bEhwXj4eAQXG\n",
       "sRYlkBBVcoaqEP+qVdlzj7vZFihCAWKn67df0m4mEnggNnFR521Hugg5dpTzmUNzuCve30OsOEsB\n",
       "w22yVNLUMPye0Ff+8NVo3x/+U9+QwlB0A7fySpG0UnpvU1RIY/3N8cI+kgcbFWjJpfh+Yb3b9EaA\n",
       "VNZLUva/X8Kw07dgY8G2Z8prLZCXB16IDxZYeauHkk4I7PekKebmMu/1dIU+f5mYrVrB+pYvmWQM\n",
       "xOQxiuKen9iXt9ZYpRLsZxY+CP/S2P5DBjOOmBDgw2h3vu6dp7BBKFWxbtJ0InZnumvLG3/5hG/m\n",
       "tCEX2JcKFk6HBUtxILyBz9PmitsZ6AqCCPowY7f/E8ANjJw816bOXo0jWORvu7+SnvNaHg8fcSD5\n",
       "ed5xSSMg0UGU6ZwdVhNnBMx9l9abYIinXs3pUzxwdjeH/io1H0MI820RHX4YpkAFV2h3rHGUewco\n",
       "4vLMvCOIBeEhjRJKTgx7C4mfwnExcZBthI6FCX51yoC7hVzxnlfNTDFv7/6kyr3F6jIWvdQabz+t\n",
       "sZdKvpXB3HPII5NAVZrurA9KDCI3QRUPh/I42wZQMZEY50LAeBG3JY5lacqlNu7bpT8621i12oaW\n",
       "yQMcDOZbK/vd2UkWY4ZAjWkAAAD8QZ9PRRUsN/8AUeYIEFBpNTLjeouce/M5FFUvRhRKqomsYRz0\n",
       "MG+kL4YgAtqFaODF+2yKDjRFcbzl+CkNYkSvZpQfiX3TzykfUZOxaKlVsaCZMh13xf+LzIsmY1m9\n",
       "ID2Y5dGQLof55cSqfPWg3doy5dqq1psULtk1QiSEY8XGE7f5VvPKnnibOBgcPQsORU6RLIsWnRis\n",
       "ahjzV5GW+v8GfPVxvvq7AvOX33i85brez0eH0uVHtxTqmynbZpWPLgq7j6eQ+ctUvzQzw3bVnHuF\n",
       "YaP3UvArTx38TSqahhbPgl133twVOuYHNzlSwjjXY8rXIhINjznZ1WkKRxCwAAAAogGfcGpDfwBR\n",
       "3oSgoL0itUcTYD18stFXdZ9t40M8xz5aqrACawoE/Zfa1fDoCXQnU1/hDHmvRdtdZiBGqA8klrPK\n",
       "qN5AxX4VjRoOjfyoiTUl9ZJnB07SY8+4idDpdwCd/Ld6Tp/JM1YKjCNyNHajzw/RhUBgapzwhTMt\n",
       "aPkNTCzyWXeStXPVBe0o5Cogsnm8RUy+5YlbX2wIPV6cxxXGFuU+wAAAAclBm3VJqEFsmUwII//+\n",
       "tSqAAALcTV6CDJSrl3YHVG7WCCLKc60G/myDfNQSDwmnDzPd2jAOLZB/3IPyXx+qlUiJgPXj1Evw\n",
       "Xim89RWkvr4F+rT+HLLaHA5gfDnW+hGa84VO1VBXw61VSCFAdMmy4DsQb/kCRhQLZIo4VaNij7SV\n",
       "A1Yj1Ljm4z5N9IfrXYuJTBMezncZPwoxmeDGg4Hz9gNmwJKdEOVB9KjeBXUYq5wHdJ+nyfrXjOW/\n",
       "+052nrdw9E88i+HtSKIbiRQvvPmtOUFQ5wiyZ6jKgoKjhMhgZ74CovBIniXGlxMFnFo47Z74QRQp\n",
       "s2LeyI0CPBXv+sOQCYNJllAezk7XArCrntCoCiMGVHNM0Noh/t8qhTmtfO+GQTgjh6fAdCXQ5aZR\n",
       "VCmBOW+TkG8+yyE+dc6OZ+ohD+/IpoU3THaXYNk5BUj41g4p2Nfic72MidsDqEVAB90V1opflC73\n",
       "NlLH2pN583IMtITWAcM7odYnyPkcm6PDGFtbJfWvNB+1houj0Xla6icQNeTcHmf9vpyYncS7R8KD\n",
       "1Xq+9stu2J1QxQnDMtF7QeWhCqibVPjIi45FC+igxEDrefnTMlVT9AQ8sRmtAAAAikGfk0UVLDv/\n",
       "ADkEaeQhsq7/qYsCmgLASnnXWADNo1+gT9s1DULaISw/+WobUViJTcC40ySSkCUPNc8u2ilEyN0/\n",
       "TuyxCSAQwskDyj/xNxPNT4X6qOF2j+n+YqVdicYLk13HrC5i2HI/V3Hczk7ztDuwOtubtT1WP7R6\n",
       "H744P3tn/rtmeUGA8hsO+AAAAEMBn7J0Q38AUc75FOfRhRC45zwYEeRaiCytqmeyQsD0JxZzVfvA\n",
       "pVEiOAIAqNDyC/iQGNGP+OqvyCg/s0uLHj5zuj3YAAAAWgGftGpDfwBR3oSgoL0itUcTgcUbVjSi\n",
       "3g/NMH9IUYjQ0QV8IgCgw2sB7li0pvjUqGmaRIc4g1sAB+6xRYv2JIA/dlHtl5Jj68WDULMklXU4\n",
       "ZAfS2lWdpRM2YQAAAPtBm7dJqEFsmUwUTBH//rUqgAAC3EzMmQxFAEV60CPySUXOFhDrzede1hm0\n",
       "+mF1E4L2suQERiAHAWvrmVrtA0tarukd8oMxjqLLeO+MI/WF6US3cXHsounfwwP8EEY3oyJIm6gq\n",
       "u3DGvWOmEm6C6KAkSdZPamSPaNxWwiZwr+e4/VzLC+rCwGoavKBTyHUp+XiNa8wFSrZx+UJJAVDu\n",
       "/vHIZpSP0QTJstWS9g6WYNzuOuoR/wJ1Ln78UzIjHpFcjbzy83PYK4lTkw+l6MKylvRAP79lQA3W\n",
       "0ObBcgG5xPHXJ226eiaO3eCPTfHyzSITAQY5K2a7CGysw50EtAAAAE4Bn9ZqQ38AUeYIEFBpNTLj\n",
       "eozltJMyfmBjSs6wrFX29Dgj1OdnieLOUk8qmHflPiJeO4RGm+uKwAhAVTCFOst97V7c3Fl7M7h4\n",
       "B/AwOqEAAAFRQZvbSeEKUmUwII///rUqgAAC7ek9KOHgor6BVEFd4Af1Z50oDhymr8kd8QBqQWWD\n",
       "bnXgZ7bRNFVdaoBuVAUYv3Rd/WUb/5JlSF5HrB8yfPdQ7TYRVzu3kOADr/IULodw21MAEyvunIn8\n",
       "2HtonJRUnVp0jsZ/dJMwWsL1xp2nQYMYknePWQkJv1NIx06X17uBmxjuML6qgj5J9loKGaxY97qS\n",
       "kK53cil7L3mf+PqdPHPG69TEnVwEEWvfdzzlY/jf5K6IcZvpXorfOziePsfRDGvAnZS3fsaHeAmV\n",
       "t1CokGy80ZpLnse4SQ1MPrXWsviSTjc4ewPOCk+/xlvrOXXK0YFmkmbu6bQ2m+Sb8EW05Ltc5CAh\n",
       "XgjmpbslDr4HfGpOx139N7Cjs9rXvRgYv59NXxci6gJq8AZkqWXZekdU0bleA7knc3sjqJPzNjuC\n",
       "zU7/wQAAAIRBn/lFNEw7/wA5AhwTmH7ofxrmBo3B6YA2OoSjR457NgowwMmyMOABMVjPfaEevcjq\n",
       "Iuk61eowsZCn7JelCdSL8wNcvk7s528fl7L3TN8YLTS0k8tCX+AzZH8iKV7zlHUEIlCFHvuCIbfn\n",
       "XRFl2TMW4qxvaPoJk6Hhk1RCT/g7j1GLQ6YAAABHAZ4YdEN/AFHO+RTn0YUQuOqmLN2ErKeCMLAx\n",
       "qs6GAJ1ZJ8G/a8n1zUbn1Yf9MCubt1oelAARCgX/fPFeBOM2dpor/JDuxfUAAAA+AZ4aakN/AFHe\n",
       "hKCgvSK1JkPZe/smT1zBM6oc3zKFvHtrq7drTjAbsNEopDnTQjcg6WBiiII1JJKXkyQxmjAAAAEr\n",
       "QZofSahBaJlMCCP//rUqgAABjHFk5GwKgCw5hwfV3a6XaaZZYYW2pL+tqjv8WTQ6d3BBK7aTK7p3\n",
       "0V6Vnt8gwC1Hwep1Ca+Uyp98+nwmgAuWvxnfEsWX73SPjp2Bs3SFHHlPq4RBLZTSIw7NlqEPubg2\n",
       "rTxm2QsD5x8N7uxUMARRPyRxzczXEAMXXoH2WL0UMNNBz0saLVmV5nfG+Z+9N1gXpU5l+nk38nox\n",
       "uilJqU0iZ1/AYC5qQ57b01gcSqNHky43yLcYHeO6MtFcDMqmgUqIqVPz3lixpkne3b752Fy4aJTS\n",
       "A3ffti+h74dsbvWEcdfquRrR3qQ49hqgZ8l6Q1gxOg0TN61oGmlx0XSQ/pCI14B430KeVQufgYtk\n",
       "ynusQicgPK62GFUzkYEAAAB1QZ49RREsO/8AOQRp5CGyrv+nTtWHj6xc9gBsTncQvfOI6Yb6agfS\n",
       "LgW9Mz2GH23+zjYISF9F6EPQer4GPjOWjPBgH5lH5ubld3+tNABk01Z+zSvnamfyzNzkhtbkVlFj\n",
       "j6wddB2Gg0jW2qq/05EPX8sqsBixAAAAXwGeXHRDfwBRzvkU59GFEEXF6F9OLLEo4QksPZzE0GPX\n",
       "QA14J5yfIAO/PlzUgTEYEMsW0GsmY5FkeTpPqqWciT2/Oc0yasnGNr66zY0jZjirCBuTI7dWjArn\n",
       "8kPr2I1YAAAARwGeXmpDfwBR3oSgoL0itRP+hYvwiKj750BUGg0pktJ7RNjYCZhLHPDarAA/igPN\n",
       "VTHv1HDwIDT8l8crVjJ4tu/z5yh856CAAAAA7kGaQ0moQWyZTAgj//61KoAAAYqKSHPQpHtaAENh\n",
       "K7Gwg9LPZSaSPsC4b7ayOjSpJyHb6Au3Kc/OsfePgmQQQf761tFybUzJ2Ys6RDAUmJLtrlL6/JeT\n",
       "NAloh1GzCSb9VhkgHXfCY7jvFIfWHyqJWFkRJ3rt+XBIsBr0BmsNv/sxFRRevOKxXqERvls5rzZy\n",
       "HQLaK928C1wtPjFhFuPar3gPGaTD2vUT8dDJtymQWifORhKKcotbNma0gS1OWGBhC5+mX9K7Ufif\n",
       "xm0F5kXPCW8T8F2RAm4+MATJu8ackpxSuKjRtEMdoH3iBsbb8hEAAACAQZ5hRRUsO/8AOQRp5CGy\n",
       "rv+nTtWGXEnN88oAXSv92SDjqyq0Mv2zvSmv9ZiCs7t+tC+uOwU0QLVYS9c7Wzj4iZIuCaYrD2dq\n",
       "7M4L1tMjfI1eWxo9pj+mO6w2LDdeGMw8olTQp9khyPn6XK5gz52o5boqNg9ZP2xf4+mEIS6lATsA\n",
       "AAA5AZ6AdEN/AFHO+RTn0YUO7VqGD4FTQLbDjJUcKjP7appxYI5kA2eiuGRxKkiDxCAiKWcnPRoZ\n",
       "APCBAAAAOAGegmpDfwBR3oSgoL0itGS+lGfbx54cKe7AbY6jKoE05zHisyPMMAIhQMCzIDz984mX\n",
       "9cnOWloiAAAA/EGah0moQWyZTAgj//61KoAAAwGtXoIMlX4SjdrGLbeBe20I8Pi6hkYdnU5rtrba\n",
       "VfpcgAURVHKMryWu5xt5eRSLeuquvb9e5y+ifLqNx2ehLUUR0gOdtM2CcBStWPeoc3ARfsK36JTm\n",
       "eqJ188jPAQb78e+eKbd9w29+alVRJCS6kbQ/RTQW283qTeakr2GA9kB+FjckL7CIqCbqslF9iBkb\n",
       "dIRq+wI9hbAVSNl+6yst6DTNML0wyVvlC8U2VNEBoojdh8znoGlj+w5dFs8xUc7WxB6xwKRhIJFj\n",
       "QkSKrqs/NBVpZT1wu7EKlSajRMgLDq4zs5Hz/cXFpM4BIQAAAHJBnqVFFSw7/wA5BGnkIbKu/6jT\n",
       "gWgqqdfcTE3rGQweCfoefogWAB+iF/GaeDRQGmIXts5HuchK5l2Ih5aIMkbukK8YsA6JkV8f3eGq\n",
       "OJHIZCzQ10jN8pMGEMbZxOaSWkcF4Axyb7PZwkzbhXVvUzbCK+EAAAA/AZ7EdEN/AFHO+RTn0YUQ\n",
       "lFcFOaGVpy0SyiC3Pk6rMDJACT1HIZ1ikXGRXJGOZH1Pj3Vlhl8HkrcX7/OEVB8RAAAASwGexmpD\n",
       "fwBR3oSgoL0itTZYXugW0gHLgO+/ftNDoojmNNWLkfCUDHJXu+aKBu0zZMXgA/L/8o+gKxUGwM3a\n",
       "+UBMSh21kjxfyHH4gQAAAQdBmspJqEFsmUwII//+tSqAAALJ6T001M9bSDYv1RIAjHQ2aPvOMDGh\n",
       "9hJppU6s/je6fAoPp7e5wD0AADVgnlPYByOYxk6Hl3KCMMe21G/sAV4wgw54MscNRnMyhoY+Sdw1\n",
       "+gdmDN4MUh/OnDejJbOovSflLAJ5iX3z6vtHvovb9sCsaH4dyCzyyaBBjM96TF6fLM8EG+bOwlbl\n",
       "Mz94RSVyx/IJRLgsTi7SerGnlq5Trb+WCAE/ZTCNsjJgNjLJjeAzOr0ukePgBr8WUf165OLp1IgF\n",
       "nHrOk4H/6rlQIQn5gAvoKBvaZ4k2yOIG1VBLol/gdKxQdG3dDTDwv8ZBKnvBZEyvOq8oeAAAAEhB\n",
       "nuhFFSw3/wBR5ggQUGkzXKwPelbA3BAJpJshrIiluRPtEMSLCiDKkV/raa9ynyiACdveZysLQ2RB\n",
       "RnrhNaupswjYIla4d0AAAABLAZ8JakN/AFHehKCgvRnkTlNP1qGgoH874Nwo31KMvqvBmADN76M2\n",
       "/jHtg2F5EzAVpZSdbIrlQceeYQRJKuW9sa4CVKQuQyLA1cOBAAABHkGbDUmoQWyZTAgj//61KoAA\n",
       "Axn9XAFCGxpRyRhP/yEsDgxOzX0sdLLJ5wmiiKCwKSE7Xl6nT54LoJe1b5FnpD9Hiu6TSFHQDUOM\n",
       "hiGsKUgpctOmqu1CVYPFkekHw1QN4tGYVBrpJrDs0OSajPfneovpgPNsIE2CV0mTjY67PlAtIXMy\n",
       "nv/xSlRfgVOC9PfnX2LcLXKNCVfplvYMaGi9/rNXwP8fVkTmnj885l9+N/SWw4900KU/w/emd0ic\n",
       "TPzmTwpD/ZZyJhU4uN+Eb7bXshqgK85HTarRrC8K+V1SfP1YxbwJFNoVpiGR5oO1wDnG0z3ymXK9\n",
       "a9zudQ36y7NXl9Za2tSnnGhVKWZ0+42e6p6ez/FVvHfX4pLSbukLVYAAAABNQZ8rRRUsN/8AUeYI\n",
       "EFBpM18mysWtHFgne48eH71xmxtBTMbaexoAP0ACv5rOG3Jz1WSK0A90KFv4NCwAGqOddV8v2uhk\n",
       "12p6y6JV4SIAAABJAZ9MakN/AFHehKCgvSKS2mqda1WMoOLSpieCC/o4ACTEK7zg74ecqmy/ROPj\n",
       "R4pRJemGP27r++YzCj81kjnuE05NeVcgNZ2boQAAAPxBm1FJqEFsmUwII//+tSqAAALcbZloX9yF\n",
       "4sAOPF0k0ZScAhoNBJq9X2focsWEPT2pbW2BhLMwnizEMU/IF2yjQepjhlCtq9nPTvPpCMVj7+pM\n",
       "Lbpt0rcFfTZ47mG9deyG5RJaZ6kHCv/R5OudiYmLlQmdHPdcT56rg5070HBNb1aiXkncb7mxN+ma\n",
       "MfC9/IetJkmbbLcwKtKW9LxY5F7o51BVb6h4f2N5LsNTAT3qQzfMXD4NKDoIk/tInS9+GWJ2u8BF\n",
       "lObfHnxpugSo1TdrJY4CMrG3py0f6XU23CYRPxO9f6+vD1U25jxyA6JXokriMU+h5/cTNmWVgIEA\n",
       "AABbQZ9vRRUsO/8AOQRp5CGyripWW6DCz9Se66wAaBZ+W7gwTPimxKMFoEuVHN5FV+aFUXrisfC6\n",
       "Vllrelgw7/65n11sL2PRoLy/sMN/dwmZRt/QuDd7DsPZnpkhKQAAADwBn450Q38AUc75FOfRc7Z6\n",
       "zi1sO8XK/2L3dKOCFetOUhNJdrZq51yeaTJACaKMi2YGUQBf34W2ePb/bLYAAAAvAZ+QakN/AFHe\n",
       "hKCgvRnItb36ew30Q++oaeE2/oelNj8Ed6nNySyPYlSy0TzFhzAAAADcQZuUSahBbJlMCCP//rUq\n",
       "gAABns0guMAEYKWKM/mdoAfx7Z8aNPguhBMraijo8+Vt3VmPhlSgoZUUmyeaOWSsWbzcCnKMAzQA\n",
       "ZVR8ywZzumEAXLDaa7CdIB6bofVVK1Ix6k6CHx5+oSDMM5Q0JDoPUZiaa/OomcIMk1UjR/kqAy8t\n",
       "e1eUxC5e3D0C9W9iJMmzb641uWE7dkUSOw81J6kiIdht7lNOBUG4UiP1nLOvTW+TV4QtebCfwgZ2\n",
       "KtY8pKP7SCaNIUg38O1Jqjhu31tmx9mLCrZ52hN9V5IvgQAAADtBn7JFFSw3/wBR5ggQUGkyOoGp\n",
       "UliHzAOebUmRgRJ2rZ5Z29gpmfSIAArdpBnUAoKqsw8uFbc7s1dAQAAAADUBn9NqQ38AUd6EoKC9\n",
       "FXy12Pa+qHDJaHUuzcACabLc+zaQ6qF3BRTgcCQjy3Ps4hAX4zsg0AAAAMJBm9hJqEFsmUwII//+\n",
       "tSqAAAMt/VwAqI2NwTLspqw19b8tpzJ2+VMDZWXfXenf0jFMLbdBph374mrIB6IgdJ5P/dK6VSuS\n",
       "OZlHKs9nBop3tTyYwjVq++DI30hWbJPUU96HoM8YBLrZKOBv9ky5xUhTENYw8bM65htOB/PDT1Fu\n",
       "N6QGQw4gCVBadA+4e2TDtPMHlvEJzL1SklVVqBVL7xshst7wLiJZ+MCgBYupYou0+d40Ts1O5f9M\n",
       "DTv8TnUeBWzDzQAAAENBn/ZFFSw7/wA5BGnkIbKvUAswG+AQxbDbDKr2djgpCFzw6HTMAEnK7Wfg\n",
       "vBJO5ljcfbVDnmjFKMPRlPxzA/wUNO+AAAAAQAGeFXRDfwBRzvkU59GLrarNSd9xwfiHck0+G7sF\n",
       "hrrl5/Im6roAQmdPIlvsx/Xez61fZb0e12rHlrbo93yzO/EAAABSAZ4XakN/AFHehKCgvRnkXEDP\n",
       "pqZtg/W3AUXeQAITo+fNeZuIyCF2EJadDedS0fUX5Kt7asaKh4mmdluYesJ1ul4KVCs/Oe+cRfax\n",
       "gfE5/T9RxwAAAN1BmhxJqEFsmUwII//+tSqAAAK79Bhl776HbIRi/gAXToZ0dPuKFxr5Uwy9Jzxp\n",
       "TY2FwmXE72qakDPCiO45PF8QkJcO26jyxTs0u96Umxq23WJMeaoCFPF2QjscivMsXLwmEOzkrVeH\n",
       "0K8Tmx7dRY+mg4sv5I2VG7QLnkb2KO5sRNplBv2+Y24d4UdU6VPKqXPFe7KVgEvjcMJQr6NY9sqc\n",
       "dj9xNbkHYob1W/dKGxIZCPoLEC5loEIEsDXvG7KVh+u9yX7qS6P3mho9TGWAaRziuJs1+Sz1qp/3\n",
       "5gugqAAAAFVBnjpFFSw7/wA5BGnkIbKwH11QaMXGyPAeyMf4MzSAEmA0CY7T+x0qWucX/z274WzI\n",
       "tJ3xDh4ymFb4DkDHChJLj0x0qO/offTYoI/YyxIrPXZ80QiZAAAAOAGeWXRDfwBRzvkU59Fzgg7v\n",
       "fa3xPqxAyDrDIAEP5ZTB4Y/DIYxyHczR1KQH+sjs6gZIj9rL7STgAAAALgGeW2pDfwBR3oSgoL0u\n",
       "yFa/SFcwnxkZGrKv9wMZdZNjxxdR2ysEzYNnvjCoDukAAAC1QZpASahBbJlMCCH//qpVAAAGewD4\n",
       "AjTivGUmaf5RYw3v7rqZkdzYMyIRlInb6ZiQz4S7OCcRsJrVB8esZnjj6K6Vg4DthRbkbiTYhYxe\n",
       "eXsXjIlvMhjlVC/VhT0HEej9FFlHqcG62fooZ6wtr96PkzKytdSgPHgtzYVml6qvugkWtTQocri3\n",
       "7AyE39n2FwmmZqyg19GOZjh/fxg1d4qhvxEzXQ65BFY2gcy6DxrynQF/6A2zKQAAAHJBnn5FFSw7\n",
       "/wA5BGnkIbKwFwOvZ16Uz922m+AFmKaSWKeNVfsT6AM/2I2xXKhUJWx44so5Z3KA2ZUW1MSs5dJp\n",
       "Wd8d8k+1G4Q9clCz7oL4OuU+SmlCLNeVQjnB/9vRVdGZTlvU5Ge3nWjr1GsmkEQVnnAAAAA8AZ6d\n",
       "dEN/AFHO+RTn0Z0A3r6QTTSRG4iCi3Vs94hwi3ADnt2BD/wnNPFLBWuW6HYMUdxhsfMtxtL26NFa\n",
       "AAAAOgGen2pDfwBR3oSgoL0p5H+Xf40khMJSmwDHlYkWn5CyAEnFvhH3hn5QRJGgA9LrIAu+qJcv\n",
       "29P18gkAAACfQZqESahBbJlMCHf//qmWAAAYCP8LLDvOUeDhw1nqbLEIoWzjVT9tCMmwDGols29Z\n",
       "hag8Cd2DpZ/xXB/tD0fINnWRU88itcdSlnnIutA2/HcRshZWpHqqV8vk+AZm9GXUioZEeAJg9jf0\n",
       "E9+ZIIEVZLAk00Sj2aYuHLztB7uRc1fyKD0Bxok+4ShinXQuFaALY9c2CcmW7MpQnuldSOPgAAAA\n",
       "aUGeokUVLDv/ADkEaeQhsq4sjRL55Ffh80gBZuoOnbwjRDaLZnXP6ejm7k2pgiklUV3lL+/AuTx8\n",
       "z8xoVkHe4gwzKviuPZoinWvXI1htgOZn1XEuXAqxLtoecZ8SY+MSrL1I4h/sjP0Q8QAAADUBnsF0\n",
       "Q38AUc75FOfRc4E5snRMmP93NcB9UJwyJCjPQu5zYAAmzOynpF9HNcfvZdlYb9KHKAAAAEABnsNq\n",
       "Q38AUd6EoKC9GeP/yLtkgQyAZiQXjQAIgRkjmv/brbT3r3/mnhJF9jtVjThhwSRokvdaRBnZrT6h\n",
       "4adlAAAATkGaxUmoQWyZTAhv//6nhAAAGlvsRlET2Vvxo35WIDO5Rtpwh/gnktRb29mADaTvnBFs\n",
       "C3AouwSJy6WKb3JlWX7NIfOSfLYmBWovrSTNcwAABk5tb292AAAAbG12aGQAAAAAAAAAAAAAAAAA\n",
       "AAPoAAAbWAABAAABAAAAAAAAAAAAAAAAAQAAAAAAAAAAAAAAAAAAAAEAAAAAAAAAAAAAAAAAAEAA\n",
       "AAAAAAAAAAAAAAAAAAAAAAAAAAAAAAAAAAAAAAACAAAFeHRyYWsAAABcdGtoZAAAAAMAAAAAAAAA\n",
       "AAAAAAEAAAAAAAAbWAAAAAAAAAAAAAAAAAAAAAAAAQAAAAAAAAAAAAAAAAAAAAEAAAAAAAAAAAAA\n",
       "AAAAAEAAAAABsAAAASAAAAAAACRlZHRzAAAAHGVsc3QAAAAAAAAAAQAAG1gAAAgAAAEAAAAABPBt\n",
       "ZGlhAAAAIG1kaGQAAAAAAAAAAAAAAAAAACgAAAEYAFXEAAAAAAAtaGRscgAAAAAAAAAAdmlkZQAA\n",
       "AAAAAAAAAAAAAFZpZGVvSGFuZGxlcgAAAASbbWluZgAAABR2bWhkAAAAAQAAAAAAAAAAAAAAJGRp\n",
       "bmYAAAAcZHJlZgAAAAAAAAABAAAADHVybCAAAAABAAAEW3N0YmwAAACzc3RzZAAAAAAAAAABAAAA\n",
       "o2F2YzEAAAAAAAAAAQAAAAAAAAAAAAAAAAAAAAABsAEgAEgAAABIAAAAAAAAAAEAAAAAAAAAAAAA\n",
       "AAAAAAAAAAAAAAAAAAAAAAAAAAAAAAAY//8AAAAxYXZjQwFkABX/4QAYZ2QAFazZQbCWhAAAAwAE\n",
       "AAADAFA8WLZYAQAGaOvjyyLAAAAAHHV1aWRraEDyXyRPxbo5pRvPAyPzAAAAAAAAABhzdHRzAAAA\n",
       "AAAAAAEAAABGAAAEAAAAABRzdHNzAAAAAAAAAAEAAAABAAACGGN0dHMAAAAAAAAAQQAAAAEAAAgA\n",
       "AAAAAQAADAAAAAABAAAEAAAAAAIAAAgAAAAAAQAADAAAAAABAAAEAAAAAAEAABQAAAAAAQAACAAA\n",
       "AAABAAAAAAAAAAEAAAQAAAAAAQAAFAAAAAABAAAIAAAAAAEAAAAAAAAAAQAABAAAAAABAAAQAAAA\n",
       "AAIAAAQAAAAAAQAAFAAAAAABAAAIAAAAAAEAAAAAAAAAAQAABAAAAAABAAAMAAAAAAEAAAQAAAAA\n",
       "AQAAFAAAAAABAAAIAAAAAAEAAAAAAAAAAQAABAAAAAABAAAUAAAAAAEAAAgAAAAAAQAAAAAAAAAB\n",
       "AAAEAAAAAAEAABQAAAAAAQAACAAAAAABAAAAAAAAAAEAAAQAAAAAAQAAFAAAAAABAAAIAAAAAAEA\n",
       "AAAAAAAAAQAABAAAAAABAAAQAAAAAAIAAAQAAAAAAQAAEAAAAAACAAAEAAAAAAEAABQAAAAAAQAA\n",
       "CAAAAAABAAAAAAAAAAEAAAQAAAAAAQAAEAAAAAACAAAEAAAAAAEAABQAAAAAAQAACAAAAAABAAAA\n",
       "AAAAAAEAAAQAAAAAAQAAFAAAAAABAAAIAAAAAAEAAAAAAAAAAQAABAAAAAABAAAUAAAAAAEAAAgA\n",
       "AAAAAQAAAAAAAAABAAAEAAAAAAEAABQAAAAAAQAACAAAAAABAAAAAAAAAAEAAAQAAAAAAQAACAAA\n",
       "AAAcc3RzYwAAAAAAAAABAAAAAQAAAEYAAAABAAABLHN0c3oAAAAAAAAAAAAAAEYAAA9fAAAB6gAA\n",
       "AKAAAADpAAABCAAAAeMAAACiAAABDQAAAZIAAAECAAAA3AAAA5kAAAI+AAAAqAAAALIAAAIjAAAB\n",
       "AAAAAKYAAAHNAAAAjgAAAEcAAABeAAAA/wAAAFIAAAFVAAAAiAAAAEsAAABCAAABLwAAAHkAAABj\n",
       "AAAASwAAAPIAAACEAAAAPQAAADwAAAEAAAAAdgAAAEMAAABPAAABCwAAAEwAAABPAAABIgAAAFEA\n",
       "AABNAAABAAAAAF8AAABAAAAAMwAAAOAAAAA/AAAAOQAAAMYAAABHAAAARAAAAFYAAADhAAAAWQAA\n",
       "ADwAAAAyAAAAuQAAAHYAAABAAAAAPgAAAKMAAABtAAAAOQAAAEQAAABSAAAAFHN0Y28AAAAAAAAA\n",
       "AQAAACwAAABidWR0YQAAAFptZXRhAAAAAAAAACFoZGxyAAAAAAAAAABtZGlyYXBwbAAAAAAAAAAA\n",
       "AAAAAC1pbHN0AAAAJal0b28AAAAdZGF0YQAAAAEAAAAATGF2ZjU4LjIwLjEwMA==\n",
       "\">\n",
       "  Your browser does not support the video tag.\n",
       "</video>"
      ],
      "text/plain": [
       "<IPython.core.display.HTML object>"
      ]
     },
     "execution_count": 493,
     "metadata": {},
     "output_type": "execute_result"
    }
   ],
   "source": [
    "HTML(anim.to_html5_video())\n"
   ]
  },
  {
   "cell_type": "markdown",
   "metadata": {},
   "source": [
    "2 objects that move"
   ]
  }
 ],
 "metadata": {
  "kernelspec": {
   "display_name": "Python 3",
   "language": "python",
   "name": "python3"
  },
  "language_info": {
   "codemirror_mode": {
    "name": "ipython",
    "version": 3
   },
   "file_extension": ".py",
   "mimetype": "text/x-python",
   "name": "python",
   "nbconvert_exporter": "python",
   "pygments_lexer": "ipython3",
   "version": "3.7.5"
  }
 },
 "nbformat": 4,
 "nbformat_minor": 4
}
