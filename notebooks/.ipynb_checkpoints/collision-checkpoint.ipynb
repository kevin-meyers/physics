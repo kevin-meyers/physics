{
 "cells": [
  {
   "cell_type": "code",
   "execution_count": 1,
   "metadata": {},
   "outputs": [],
   "source": [
    "%matplotlib inline\n",
    "import numpy as np\n",
    "import matplotlib.pyplot as plt\n",
    "\n",
    "from matplotlib import animation, rc\n",
    "from IPython.display import HTML"
   ]
  },
  {
   "cell_type": "code",
   "execution_count": 2,
   "metadata": {},
   "outputs": [
    {
     "data": {
      "image/png": "[encoded data removed]",
      "text/plain": [
       "<Figure size 432x288 with 1 Axes>"
      ]
     },
     "metadata": {
      "needs_background": "light"
     },
     "output_type": "display_data"
    }
   ],
   "source": [
    "fig, ax = plt.subplots()\n",
    "\n",
    "ax = plt.axes(xlim=(-10, 10000), ylim=(-5000, 5000))\n",
    "\n",
    "line, = ax.plot([], [], lw=2)"
   ]
  },
  {
   "cell_type": "code",
   "execution_count": 3,
   "metadata": {},
   "outputs": [],
   "source": [
    "def circle_of(radius):\n",
    "    points = []\n",
    "    for i in range(2*4*15):\n",
    "        points.append([radius * np.cos(i/15), radius * np.sin(i/15)])\n",
    "    \n",
    "    return np.array(points)"
   ]
  },
  {
   "cell_type": "code",
   "execution_count": 4,
   "metadata": {},
   "outputs": [],
   "source": [
    "points = circle_of(200)"
   ]
  },
  {
   "cell_type": "code",
   "execution_count": 5,
   "metadata": {},
   "outputs": [
    {
     "data": {
      "text/plain": [
       "<matplotlib.collections.PathCollection at 0x7f660a4f6610>"
      ]
     },
     "execution_count": 5,
     "metadata": {},
     "output_type": "execute_result"
    },
    {
     "data": {
      "image/png": "[encoded data removed]",
      "text/plain": [
       "<Figure size 432x288 with 1 Axes>"
      ]
     },
     "metadata": {
      "needs_background": "light"
     },
     "output_type": "display_data"
    }
   ],
   "source": [
    "plt.scatter(points[:, 0], points[:, 1])"
   ]
  },
  {
   "cell_type": "code",
   "execution_count": 6,
   "metadata": {},
   "outputs": [],
   "source": [
    "class AssumedSphere:\n",
    "    def __init__(self, mass, v_i, f_i, pos_i):\n",
    "        self.mass = mass\n",
    "        self.v_i = v_i\n",
    "        self.f_i = f_i\n",
    "        self.pos_i = pos_i \n",
    "        self.points = self.draw()\n",
    "    \n",
    "    @staticmethod\n",
    "    def draw():\n",
    "        return circle_of(200)\n",
    "\n",
    "    @property\n",
    "    def acc(self):\n",
    "        return self.f_i / self.mass\n",
    "    \n",
    "    def vel(self, time):\n",
    "        return self.v_i + self.acc * time\n",
    "    \n",
    "    def delta_pos(self, time):\n",
    "        return self.v_i * time + .5 * self.acc * np.square(time), 0\n",
    "    \n",
    "    def vis(self, time):\n",
    "        data =  self.points + self.pos_i + self.delta_pos(time)\n",
    "        \n",
    "        return data[:, 0], data[:, 1]"
   ]
  },
  {
   "cell_type": "code",
   "execution_count": 7,
   "metadata": {},
   "outputs": [],
   "source": [
    "def init():\n",
    "    line.set_data([], [])\n",
    "    return (line,)\n",
    "# animation function. This is called sequentially\n",
    "\n",
    "sphere_1 = AssumedSphere(5, 0, 20, (2000, 0))\n",
    "sphere_2 = AssumedSphere(5, 0, -200, (9000, 0))\n",
    "\n",
    "def animate(t): \n",
    "    # t is a parameter\n",
    "    \n",
    "    # x, y values to be plotted \n",
    "    \n",
    "    # appending new points to x, y axes points list \n",
    "\n",
    "    xs = []\n",
    "    ys = []\n",
    "    for x_set, y_set in [sphere_1.vis(t), sphere_2.vis(t)]:\n",
    "        xs.extend(x_set)\n",
    "        ys.extend(y_set)\n",
    "    line.set_data(xs, ys)\n",
    "\n",
    "    return line, "
   ]
  },
  {
   "cell_type": "code",
   "execution_count": 8,
   "metadata": {},
   "outputs": [],
   "source": [
    "anim = animation.FuncAnimation(fig, animate, init_func=init,\n",
    "                               frames=70, interval=100, blit=True)"
   ]
  },
  {
   "cell_type": "code",
   "execution_count": 9,
   "metadata": {
    "scrolled": false
   },
   "outputs": [
    {
     "data": {
      "text/html": [
       "<video width=\"432\" height=\"288\" controls autoplay loop>\n",
       "  <source type=\"video/mp4\" src=\"data:video/mp4;base64,AAAAHGZ0eXBNNFYgAAACAGlzb21pc28yYXZjMQAAAAhmcmVlAAAsDG1kYXQAAAKuBgX//6rcRem9\n",
       "5tlIt5Ys2CDZI+7veDI2NCAtIGNvcmUgMTU1IHIyOTE3IDBhODRkOTggLSBILjI2NC9NUEVHLTQg\n",
       "QVZDIGNvZGVjIC0gQ29weWxlZnQgMjAwMy0yMDE4IC0gaHR0cDovL3d3dy52aWRlb2xhbi5vcmcv\n",
       "eDI2NC5odG1sIC0gb3B0aW9uczogY2FiYWM9MSByZWY9MyBkZWJsb2NrPTE6MDowIGFuYWx5c2U9\n",
       "MHgzOjB4MTEzIG1lPWhleCBzdWJtZT03IHBzeT0xIHBzeV9yZD0xLjAwOjAuMDAgbWl4ZWRfcmVm\n",
       "PTEgbWVfcmFuZ2U9MTYgY2hyb21hX21lPTEgdHJlbGxpcz0xIDh4OGRjdD0xIGNxbT0wIGRlYWR6\n",
       "b25lPTIxLDExIGZhc3RfcHNraXA9MSBjaHJvbWFfcXBfb2Zmc2V0PS0yIHRocmVhZHM9OSBsb29r\n",
       "YWhlYWRfdGhyZWFkcz0xIHNsaWNlZF90aHJlYWRzPTAgbnI9MCBkZWNpbWF0ZT0xIGludGVybGFj\n",
       "ZWQ9MCBibHVyYXlfY29tcGF0PTAgY29uc3RyYWluZWRfaW50cmE9MCBiZnJhbWVzPTMgYl9weXJh\n",
       "bWlkPTIgYl9hZGFwdD0xIGJfYmlhcz0wIGRpcmVjdD0xIHdlaWdodGI9MSBvcGVuX2dvcD0wIHdl\n",
       "aWdodHA9MiBrZXlpbnQ9MjUwIGtleWludF9taW49MTAgc2NlbmVjdXQ9NDAgaW50cmFfcmVmcmVz\n",
       "aD0wIHJjX2xvb2thaGVhZD00MCByYz1jcmYgbWJ0cmVlPTEgY3JmPTIzLjAgcWNvbXA9MC42MCBx\n",
       "cG1pbj0wIHFwbWF4PTY5IHFwc3RlcD00IGlwX3JhdGlvPTEuNDAgYXE9MToxLjAwAIAAAA0JZYiE\n",
       "ABD//veBvzLLXyK6yXH5530srM885DxyXYmuuNAAAAMADN2InuDwrXQ9FeAAIHdhPOIAf8QDIlIw\n",
       "Uk0vCf7ntT5IqLVnK6aisxWLgiO3otUz8e8Vzjz/Yvq+0eCTSii/BEs+WBC2WVSh8iGUUXFBZesY\n",
       "XOewTIzJIBxOROXq1OWGdxAFsKAWgYRExIetPDll6u0Xfcq7uuRP7cLIINBAUQfbUC+VONQBmbhh\n",
       "tjpXEwHFZSoLs6Hxb4jrLOK3xUdTjMjlkv5fqPRgJ6xulzzagy9RRz8uHu3g8cGW01BnbjiqPidM\n",
       "GMd54DYBHu04c0wCC/0RfZHonOwRO6ghR/IfWNskLcpx3cZRP1uHqXhRGlqVfEdJB95fXDlI2O6e\n",
       "sNoJr4MpjhXhTRyQMUNiE5Tq5t/9fvI36cVxeOrwDpPv5hTSPgAGBfA8AasAEwTsiMp7oCqvwiki\n",
       "xTW+ANOcT5qMIhvBkMKNdjtEIYw89hnx4Z4UfcG3qITb/eBIDuSDK0Fxo6XDEF2kzgKUeZ12+sI9\n",
       "xWPaT1hkPz+GDnLuLHOEnu5dnAjPMHQZeWVweYdBfUvznR5QQlL65d9/4CpxZthsgWtYPVyYL1HG\n",
       "NLefz4zQuI83JZAO5R+qdfUCv43p8T/DAAAFw6hA2tDey9Rc6gzAQQZQc+31Mhoo9LYYB2dh1gCD\n",
       "EphTFy/YbpsQWfQYSbK7SJnBLYWIC1qevzRXiugTluBWX8331v9vPJPZ8zQXtVqoTOXFcpag3GQL\n",
       "pCuVxJxgH6RxrVUPfBPLKp8g1t4mAyFL11TvunLuj1g6lL/3OBuZQ5cRX12bA9ZZax4RfQFRv26G\n",
       "FawtBdI6VCWIDzrgzp3qxuGOQARzqyrM32wrHsLY+WHTdFqXuwtUKrUd//JG//l39SGJLuNRnvwE\n",
       "eA1ua/Zz/I/cn9SSweqC1c4g5/se3STTXU3778zgqFAR83bBvVaw+z3V9qUr+v6Q9BwdnzYzhPXc\n",
       "HBkmwkP4vEA7BgRBIxwAqUwc/eiLx2lirqDHu4aryK8DbKhL00LF5p5r3Lt2gB37D/LKPc5EaJ/j\n",
       "mgTDxBBEIYDHJXJBU6SXNytRNTlfZpoN6DKjFABNQucMOX6y9V90erHVvqadRs+QyqhahdbSVy0h\n",
       "DjBPWKythsRXD5GJmIWMYGvE0R3NmBGJq/Ufumzi0pxuepvA3A/ZYewk/vk4sjnNpFKMjXeqXR3Z\n",
       "gtcckNquctCcxlb9R0od591p8mFn8mS1ZOPiURQduKiEKH/JtHLeQt4WBN/VJ7Sumf5zpiGU68/B\n",
       "xLe3BlU86b3NGpIHemI7a5X9DKpYLF9CadGR9Dw1lVIynlKWpyecmnT1BIS+C4ZqG5EUusgs3Db0\n",
       "kTkTqaAR5/y1BSXRMKW7fs1vZK8RW9r+3y7PiKYhAUoM5io9KnexAihXb8dNTKQOZoFg/bjpjQOb\n",
       "sjX6tR9/g/Cw+BHXsL2CDxMLrS8VTMK47/Z9U3/i0UIHErbYhfhAb4dvO1STbG9NMrMxa5jidCpo\n",
       "86nPiP6tkTpZXIPXFn3TPPuZq9jIIMjrMa9IOPlk7HJQlMC0kA3G3XZY16WuDTDIip0MF9aRaxHX\n",
       "BT2eSZ+G/yl4TguSN8AB5TFRKOnIMaYuGGMFjL3CwCiefLiGb8A7cPGIy2MKA9vI2oW2EC1tKKz2\n",
       "tIk9Vy+IgPrn8jNwI2ZyL1k6OBpbXWFkY3Vr1COo0NcIZrxNK0B41Il9sn05hJ6rlMk730fYzOHJ\n",
       "N2TO0hTxPvdKg7dgxDFqRM1K34sKqO9MfgnfbGKB+oDJDLxgIa6lwIwvvN7egSEmy8a8XrACH7xO\n",
       "Cj+ylDLyJ9EozlN2PpS+/+1ZoaHKFe51EFWTlvHDsk1Ug06+QSkGgAJiLIwR8auRD3fdcGPVtpxq\n",
       "l6mGAA4Ev4uE0Zu4AL6dOSUYBR5RbyxXKZ2Z52bUiilzE4l3YD51/DpYfphavCam3hq5RSkvwHlj\n",
       "FFN/Jxf3dofhL7hP5h/eR2UnbE5Ml7rjwZsZWoPvNHkXJ+GccCde7MKQQlPPCY7BATaqKDJK0tXl\n",
       "UAkbJiODnEaEygU2zH5QSsfMhK3b8KPkgAb0QzSLxTA5dhl6vM37Ylp6X6RUuoqF1Ytl2qn+MTbT\n",
       "4ess2ZObw1q2+ztZBbpGgA37769KMHs2qA82gn/dMjtcwk0TAdeU9qdPSiSzIT4d1bx3syxwAWqU\n",
       "hiJz4++0i6BaxZuJc2U43RXPdwN73S6MBuqSs+7yLiilTMS2X7/WscABvMGZ9MCkgZAokmQj/E+u\n",
       "MxoH7ME7RG7i2Yrf+81WAy24LuvO0/42aj82c5HIbyjGbvPUsMh0nAyg+2oMY3zMiVoPMFpsJMyo\n",
       "FESqf2iPohashd828jraIc1KjgkFQnmT8IAcurNl7pto2IDlAIGWa2Te3jqjevpjfC+5pvvqSW2A\n",
       "0H6M558p5oJN/8/hFY7vexAxR1z/303tm0GLVXw92WmMobhC9eaOMPNrADh4QWUC8eWvys5rwHGv\n",
       "UZTFpOqqiu80JD1kUr/EBjMQuZzJVsCY1yJ+Duik4nG76kjCuEWt5mZp418/2BqB5yLlyVfgotjR\n",
       "8E6WOIEIsHC1VFR9qUvtX8FD1NynyZrPV+eBMw5RV3xCkWAeU9D5+Sga1l3sK9MkPCoW3cLSdzzi\n",
       "shJJ4uiwsOTR/jFl65xoISYp1WIFgDp3Tg/s79MEq6SSJQAisGqipJplAX/jzRrVmOh+hSFtrIWC\n",
       "/WiXhOkpHI3pzBz4K4EuEfX86a7hks0nmKmPSEBNKFKCFGlTjoSwFv81745EDObv+07KFV66Zygq\n",
       "/s+egFYTfhDfAdWG8JLmMWAbRibQXbgsp/bsH6pvhOvecP995JX6CmSxUOrIpDqI2E2GMmKLbFhy\n",
       "c/Q34Klt0p4A7wvwtm4500EV34olOEwj+F5ttCJlvMXgAWuKsKBEoVGjegy0RciR3jQRJydvSgMw\n",
       "lSvnDB6JOcC2EAC2wVdiOb1MCOsWmtyR6BEywJ4EzgMa3mK9lhn6E2X/RQQ4hitCJWd0tgXkkvnk\n",
       "s6i5SMktHLk/CHTx+g9fiXQf+sVvmarL9C/ukSDnCfiGidLJGXDVzosTtjFgUxcOe1jfDuWc5T+D\n",
       "UoQlxXqHxGHSJPsu9yecL3rImeQGfRVUV5ZZczcoWl/Z7cObQfgOkkd+hLedLwIG31R3XLQbXXXG\n",
       "cgsRbWo6Upri3jmHjLWtEt9k+0OUhEtc7Ec1/uMdfGP1zSCOuRUCKxE/HAFD7IBnBHZxCRM1bvVU\n",
       "kywMmNdl5JkkvO6kJjt1QzANZ242d0S26iEBg5NT0t90C5cpb/xwGKEbQKjGY40GBLnHOCkw7hj4\n",
       "4Li2ALXFfQ33Nl0KIK7MZ2HXw8S4r0yy56AhIsUQmmrhKVntIZWOf5xKrHx7JA5O8csUnIMMTZw6\n",
       "w8XjVpyYi+avBy4ZeoFG7SqvDQ4LMT9UajNtnWaSxrzRj/vFwcjfQnPHZwG/h6J67m3qQPPtyQw/\n",
       "yKXrXBrp5FkfmaQVsZKDIMa/WwWEytXblJQSHnC7FlzJHB8AsTtG0KRvVo1RH2MoL2BHfcjfklCW\n",
       "h21GVZEOnOF2T60ZPxxKgYt+xR1sSyeeHRVGJvgwmopvk72hqhZbUdf95HeWjw6wsIwWUfMr+l6G\n",
       "jGQd9WOAjReYViKnBr4UTxUQH1qGysscUwsFZRbuEaVGVDpGkWwsGUZ18VbFRpCw7pvzmjvBAwVv\n",
       "AT/MXSsCNqolWDEA0Q0oEFpIDD2eyDc2UfKOgNDaX3QEiJjf6vueX/75OV9lEY+TCmoFeEksT5j0\n",
       "mJCjJ14eF94RVyxchCz0yFRy7M9vzJzeessNFT+OS0vzYcAakbjjjBAZiZCZI8IO95zKV0U0RWx0\n",
       "RbRXOATXkDpj3//TFvJCBRvP0XTAaxUDXlW/bU1aQHyPBvJnEPLsy4AJa5LUJ25d1PgJJDrLCWQw\n",
       "nts8OIVqf4MZFO2jk2PEqOSM1f1BhiNnUG95t23+oZK2npouNXz8tkd6EKbVvHl3Ony5IfRRVS5G\n",
       "5p3JX5o96ip/qdE3FDJ6aWDBZ8bZj8d3Nwho8VI+6jFEa6dppZ/dILY7PcIX+YPn0c2aj5Wi5FxW\n",
       "ElMXIAO0W0Lp0P2XWY1IADfi4d1xv6X0yLVZ880x4ij09x1fhItoHp+a9PGQblJvKXVD3PiFrYZf\n",
       "L188XFCZ61dAG6yvewlNIhueVx3ld+ET8tQWWBhOJ7C2KGQ+7Yym3efP5e/CHDtytsV/EioJn9jl\n",
       "TmhsmjP8RRiUJ0go8rWF2YGU/QS501lI7pH9WgfxAgVYPpzTwsaih9fNS4P0SxWdR5nehNGYDUDn\n",
       "kbSE+UzbYJ4R3MbBDONTC+eA6sA9MBcaHM1I3ysKdtMS6dOh3X0ZLuQmguMs1koDpuv6QaNNrlSA\n",
       "JIOCQhn1A2PMdeFQlQmxvT6zxwAAAwFXAAAREQAAAW9BmiNsQQ/+qlUAHSZhAATwq52XEdG0n5n2\n",
       "rxKmPtIXMBf6kjg16cO5Yf/u70NHMdtGgE+KBJEhD4whbjwU4/ulXBR6c6R322SThAirWiwAxCzy\n",
       "pHKsNheg6kCCKL4Yl+1Mnw44ukRdM0UXNLcOB8K3MQ13AqUirMIB7FA2SjczFHj+I9u9bK31E/Ne\n",
       "7PVNTNUmf8Eypd5dN52lmAXoYgZafWJb3UwBPPbYu0Wy9W8zJuyP+3z3DQ4Hq6Ow6HYB9oQhr9zb\n",
       "klsq9SmDecHowbW1aqfvhzi1LFgNpC9h1JCKnHHF9LoOzkWcRhWmMpBxaZ+6iMtC54l8OWdos1Dl\n",
       "VtPeKe3SI/x7EPzCOAMIL91qc+VHF7KLlA83Rud6LD1lPMOeArTkSM7Pw61VZOK0R9JH8o4eFE/9\n",
       "ifAz8o6DaDihY06vnxVzBr5mUxG7v4E5rbegGxF5+u13dQ/idFd5MpeAZfkh3xgQ0tdzMQTWLrwY\n",
       "AAAAQ0GeQXiG/wBR08JZpB0a36H8cG89fVIAW6ZI+/zmIwj4axS1/i5T5hL/Ut5jgEqeDXO95c4N\n",
       "qLlFFi09LQuY0ys2CTkAAAA3AZ5iakN/AAGSJ06dMIuLSGbauP6LvQceC8u56nb7h/4wibi6nlNo\n",
       "O6uu1kgc8SYpioKKYdAO+AAAAKxBmmRJqEFomUwIIf/+qlUAAM9eu9cAETMNhkdO0FdUI+rGAHU/\n",
       "NMi0axTQV/HbI68Dkq0Fk7cR7thVinmPk6ib7oYvxwvr/qL85JdHSSXbTpu71vaAU1vj7LL6129V\n",
       "z7WohX7ryrdi2UH+MzkTIHfWwbqeffqfL40sbGZgbl6BIEIRb8c17vLSJV9qg2rlJm2b5tezda1M\n",
       "icjUY0YtIT3d+al2R5yGsA97isRhAAAAlEGahknhClJlMFESwQ/+qlUAAM9eV+9ACMhEpXge8PS4\n",
       "/jOfbkEXaUXp+3qESaDOBCOJfpUv1ZFk186b3Qie1I2OiF2+HotlsfK/xVm7gwQyMNEAGADmt/vd\n",
       "pY9/7qBWO522HLBRXnlYGM4fvHw4vbkCfjRudJ7QJhPB2W1SXF7nVQnXi7d99lvmsC1r5tpKZ2L5\n",
       "Jf0AAAAoAZ6lakN/AAI7CClKjiWc1B9dD9S4RnSLyrurlge0uOICpkujJMS6IQAAAHxBmqhJ4Q6J\n",
       "lMFEwR/+tSqAAGflskoneggwAcWo5n1bjgd6HoofGgpUBb/VCN2VHj+keswRsRbOTCHJM/UkcuMS\n",
       "aQIJQ/PYYwENfMJgpnyohTNeAvcOVkWeqmN3u2md1bLNqSodVausc+3i7Bp7W+19grqw+s19Qxq8\n",
       "tV+BAAAAJQGex2pDfwACOwZONMgaMfKdzQHtGA+9rpl0iTauaXoYyidmFsIAAAEeQZrMSeEPJlMC\n",
       "CH/+qlUAAM9eJ8+AAOAwX/KQLigjCBfI0nG3PSjXVvwbwF87/e5WXdRxsRttEJUvY6yGOBEbTrgX\n",
       "lUqUuWNb7LOI+EiceZkqQOkzSzrsY1Qw76qZ9tje2D4wjL77WT9timE64cDFz09BUt4ElLo2yE05\n",
       "Psk7slHhc1160mTqqyIMqx4zqfq0u6iFRqFlAwJ2YUD1dmIJR19BYp25fpKpJ0y03UN2eEZ9/4DE\n",
       "thqPdncw0hR6p4hFl97Np+cd0h1i+HFuH5KboPBvIFncQhZjeRs3I8fluzPPsUn0CZpx2js9fISA\n",
       "om0FnRgXIIZ4BtWasgv1lAnvgsoYu3a4AuXmO29vqNGhm1BH1sNYmzdYb/zs2lUn4AAAAFRBnupF\n",
       "ETw7/wABlF8apux29Rts5uN5DN7FMOY9qm/gPKya1IRpkQATnOCON1IQk/D6jE2cW8i0PDhLKPjw\n",
       "YaWWx1Fye9eJI37/IszrEzmzE8WwcxcAAAA6AZ8JdEN/AAI7Z9KfTd1QGYD4NbQOzdTwY8NE5oVZ\n",
       "AC3hevG2WL+MnKlZWe5MsaCdml3YETwZzILpIQAAAEcBnwtqQ38AAjsDwxydn9oAATt48qgWHO51\n",
       "tiGv0cOi0+yeI4WMlKJe+mCgiRl3ebZTepbXU9zqt+kRhf6uvLYG0RCwBRplnAAAAQ1Bmw5JqEFo\n",
       "mUwU8EP//qpVAAFU+L22BHqXxkK/2XHhACZqvrC5KfETI+Z6Z1K4JFsjSIn67LQj6SpuHw559Iye\n",
       "w0qnrf9dpzw2iIn/6Z4Ql0ez2d8QHGsZHa/eDefVK6MzCDPrvmy398BvyoB8NlQYYVegISo30ekp\n",
       "A/kNFTJoM9nINk7AW5oh7jDVbNfwkjeP/8OCgXo5mqLXFmtoGCi1FyzO3mhmM/fZkH31y1cHDz13\n",
       "UHRKJdPismmJiO5D5j+2QDVCsEiQRFuuXjcISs5mFomiCmTlO76B0fOvoMPYARVjlrA+nmTkk0Ri\n",
       "sUPpWg5QGbUR5t2tFqLogm2l3ESTk1dSh41UaXce3v6BuQAAADcBny1qQ38AAjsCuZsn/9JS+Vju\n",
       "b+Ms04KbvP8X4yK2wrHDv1J58EcZmqtkT+tcLKsV0vK+A3ohAAAAWkGbL0nhClJlMCCP//61KoAA\n",
       "aD5BFDDeo66xHo7eidX0yFKqXLIoEm/o45itXLxySF+AeukhcvDJhdGJRFVub1xU/Qlw37p0v0CI\n",
       "jm0US7HIVK06SgtbbqUBIQAAAStBm1NJ4Q6JlMCCH/6qVQAA1W0v4ZG1lAA68iqAmOl7mwptKxVv\n",
       "SOeStdJ7/X8+XRG7Vzso+yHS2fQQQi38Um36p1wfCbqsqVi7cQ7YQaq6VVJ+3pb3yOcnPIMJd6W+\n",
       "jASQfzU5WCyr3uIs29W3mIUiJiGZGDfWNOX8UM6L2rNJSxh24dEsOGHTWRsaKzTrUodOPmyC5+vX\n",
       "qafU0w36lS1a5pETaia+8yqkLODk39mtD1/wNlYm4Y1iJjVWiLqQNuk5cZxJWeQUSNTc43FMrFdm\n",
       "vrvPOZEoNShn3k2vzY+TyxilaVxvaLHSby/s8j/089EwuBlzsWHMEAGvubglHGhaEJbt9NIwfEcE\n",
       "xDYqNDiYhoJIG9r8LvI0tOLM4tHgtNDvWN42DgVgunMnQAAAAJJBn3FFETw7/wABmtrqq8HBYpAC\n",
       "WXyumbScx22DxLuWUs9SAeusx1pYPd8x3g+Px1Ht3/8gR26omFi/4IIitYwM9tr1AoGa6v/GN8Ep\n",
       "enycBczKUT46u1mbZhUCZQ5xBhFuWWIAeZEi+xXHzU9F9pzXte+oTex30fWMtYcFa1Z4gORnJT7q\n",
       "TIze/gotHhrPe6yHgAAAAEcBn5B0Q38AAkr7d2rfOj00oJZmgA/oFOg8ASbwj+V0L6EmCme8NPix\n",
       "TjVNtqhEInoT+S9ORAZ8sqlBYCgr/Edi8rWpybNNaQAAAH8Bn5JqQ38AAktegHLKxvAB/R2gALa5\n",
       "clVvZ9l9EkQ+Y7wzDAgVfNy5j5tZLLXynTEkCC6rfXyUbEQcWPVvg6ottZDnqKz+teEZUUdzPwlr\n",
       "xActsYt22wgleu1nxJ4dex9M1i6faUyD2IlKqki2/LvnfTsSepBOoHv7F5/4OMdAAAABOEGblkmo\n",
       "QWiZTAgh//6qVQAA45/qQBzLzkoTLyjopkyg3MYra78/uwO5lpnHZYY/OwVi1uv3lMm1Levx84f/\n",
       "Wmoj489nte8bOnaEBMlOI+zBzOahLA6aSUswmHri+De29pB1I0HIBeOzNfUqg2WLHezYCFStHVWX\n",
       "b8HCcskbYsBob4wdlFpbOOK+9uDyurdr7+vWiU+/yYFqm/2ZgOLPxsSx/avg5VTWbMX4V0Glcvtf\n",
       "6x4xlISBtFFZSq+ITagm7YWSxA9vDXQdW43A3O/2fcN5CRSOFFvyB1eSXBDDOKjWsTlSSuF+X2MD\n",
       "tM0d4l7RjHZLo+Dl2xMnMZD7Rift6/Cz+mAJpCEBhXtumA8FK2cVxBFBSO0pqLNYKwK4HxEPRT1h\n",
       "+P+69A8lWQ0xYkh8p5i7Ou6LOXY9iAAAAOlBn7RFESw3/wACfPPkNEf4oIX4zrACXJ+tNWvMzQQb\n",
       "WPpnLyMCeWh3iWRKjndX6iiTwmwA6AZjot/JOHzn7qKz6sS00nKrxAGkYOB0JX+tN6flhlSl6iw9\n",
       "uqSkzGYozlayrxnrisMKpZXn6ycJKBfSsfeCYLEPYAtDHAUyFC6zxeXCbyBsMLm8ppwdbBfUQyzO\n",
       "cTOIjv/OinV1WkmA3ymjnuq79pjY+w0fX/kp4DjQDa5H02/KWRjXZ8qj+iGp+PnAbLMsHHn3HokD\n",
       "n371XMwkQYOIWt2ovmqEAALzyxo1PLFC97OZWkCCrwAAALIBn9VqQ38AAntC498/fAAB/d37XCTp\n",
       "1I7Oe8OPn4685v5y7B409nl2bsVCevpwhdQxrtGe1gvuCO8cSM8LFOtdBN3Y1EXL1wSKqUcLiA1B\n",
       "xU0Sr7F+eeyrSXmBvy9+VPveJo+gC/Do7InMm0g9Zro/qR4YuLoCNp5yQndhU1OppWADUQWbNR2b\n",
       "B8z5vJuDFwSP1lOjDcOCkQZN4nRuVnrBmyDstqQeL9S3HM7Y+/yQURpwAAAAqEGb2EmoQWyZTBRM\n",
       "EP/+qlUAAOPiDqHV/gC/cLumkr1XfAo2ePHJGNl3T5GBP5J6Z7Kvyuizl/6acCoNf0yLRZyY8K5p\n",
       "oA2b8fs3p0nCTfRHNjCathHXX7sRcjgpLT6Hm4JCYTd6Yk08qqhRGSlvBlm1xm6gQvaJRUNeSJ70\n",
       "4cWRJlc6mOx+pV6JVFYnfq34kl4lN3X7odXAEOvZtBcNrjrRUcj8vMxfowAAAD8Bn/dqQ38AAnhm\n",
       "MmuLSAD+MKsP9qI+YUjV0c6aQCxjsg4rI5tq0qP9sd78Y14ik71P+813YBVD+bIi5eRbwZEAAAC7\n",
       "QZv7SeEKUmUwIIf//qpVAADj6MqegBzSl74a9F6xqqwcmtDB/buVirsNF6m/BNDhBSilKFKPjKL6\n",
       "08bQCUq/OgXXuNYVV3x9uFUOBaZDVI25sRhlpOrUsU8tIiW1nJPGCWftaTIrc56VXsEnzkXu/S8+\n",
       "BkbcFZt9YPhJfvcrwlmoQqfw19MYqW4mJC184p1uSlqTLHh9POSzvGL4MC/3grHDShu0NtaCfCx0\n",
       "Tz7y34ZqHOIEMNOD9tz/rAAAADZBnhlFNEw3/wACc8+eW8B7IRa4NTjLI4mENTxvTpUyNR8hvYx5\n",
       "a3eoDgDgrjy2TrjEaa66ERkAAAA7AZ46akN/AAI6w8qZTgCj1/2bnJAB+zV+5cKsAsfechjdO/bo\n",
       "9+Eru4cm2mQhireu7gRfkPSTlfA11rAAAACHQZo9SahBaJlMFPD//qmWAAN6PDlxmANLPl83NJma\n",
       "RNsOCvmtH5J9qCNiwPFBb35Ldjs8U7OBGOxy/r0azFVzbTYJlunjx0gmF3K0jqfp4L6uBeeaKx1m\n",
       "iuU1I4OCGrg766dmLGQWsJzF90+tb5TDfuWRneQewjd9BL2S6GQ03EPOnDGJXkNRAAAALAGeXGpD\n",
       "fwACCsPki0aNFTQALlk4+Psg1MdXFl2XfDfd2uB1WviXAZiiUM2BAAAAWkGaXknhClJlMCH//qmW\n",
       "AAN6O1w6gDYzEyoeuWdMdTYLOq/3kVZFjaQoaZnPDOzxyFB101PvNxw21l+2Lx4Rmyo/I6iTDvZY\n",
       "E1xIfl4cKkwOsoHU7nZK/Q3btAAAAGJBmn9J4Q6JlMCH//6plgADejucRmANVMaVBR6Tj2rJ4ck4\n",
       "IupPJyAEgWxAVh+0Cur9E9gQ6ETTCR6A/jA66G306kVYGvMvQ+M5MTQAJu7imMWO5UrTAW7J4osu\n",
       "CK2wv7z94AAAAGxBmoBJ4Q8mUwIf//6plgADeThjQC0SnIwB6FsorNw/AQeVFRJU9dM5l2KA101v\n",
       "susykQDjYYUJ3YP/fFefID7HzCpn5X4H7cwpNb4Qm5OZP31kO7OwLohfqvVyWKtvbnNtMfQOo7t+\n",
       "aDH/xUsAAABvQZqhSeEPJlMCH//+qZYAA3o7OnvALFvb5IxtEMNg/cHw4BBlFw4yOfbwhKRUcb9n\n",
       "sadnWbJt0OrmEIGs41WmTf4WQIMtikltWcpkm9os1GDuEWA7SNAAYzRAtLk55+N5oaY4to+3IBpv\n",
       "iafFEeCQAAAASUGawknhDyZTAh///qmWAAN6O3sYtALJj7bBmJtlt3G7Dil1Qqm+5P8L1981xBWz\n",
       "iDEXS9xI+m1L3a5Luf0QLezuI9ixS35kMjkAAABpQZrjSeEPJlMCH//+qZYAA3o7tLouxcyzRPEA\n",
       "LesgXMbOyHMid7+cekhp0H9ES7EVdVvyaTuB31pCwRgcIwqg6BE0mWhnA2Y8iwI/P7rcJEi4qAbm\n",
       "J/PNPY2sjOI12bEmA+r41if47rhEAAAAX0GbBEnhDyZTAh///qmWAAN5OGNALV1qjOsSFJqL73Lx\n",
       "bs5rtXYJNWuCbx2DRuA0ANCmVseKJg387ArftdtTL65rXnNxQssmpVGwWQFP7oYn6YFDqFH854CJ\n",
       "3T+mc7kRAAAAYEGbJUnhDyZTAh///qmWAAN6OxhovwYRe9zPDHClnmVxXNagtIgCMhOdWmtXrlno\n",
       "fjrVV7wB1Kl5RGUPOmUjNaSqPlKbRM+cIm8+AAS9GIuY8hgerINb8XYQUGcPuwdJ6QAAAGxBm0ZJ\n",
       "4Q8mUwIIf/6qVQAA4+IFJMwBNxz5Ymy+CLURzFbDI3N4Lg66c7YZEAB1GZy6g6WnQbI/HrsvuizL\n",
       "YqORkP1E1tyfiaBe7daMjIsrDtHQkeE7iKFsUPOoVUyX8JX4FPsDZFFXHpDxibEAAACFQZtoSeEP\n",
       "JlMFETw///6plgADeTUWABtIQER7h6AK+z2ji8dCV5owCT9wWhlvpXKEWViu+24hzmvWlXS/3hV0\n",
       "Z1ZG26OJqM1C87nNL67bmpI+YJdu99arcqrGmlObAjUnQtlpbFe9UVJ3J+2XkGitg73q7/Wheu59\n",
       "SEKOSO89EUVKbh4GPQAAADABn4dqQ38AAksaMOdNREtlg1gALqoZRgZDhi490iHSNZga1XvFuRkd\n",
       "k/3db4EgiQ4AAABgQZuJSeEPJlMCCH/+qlUAAOOglQAEsORH3K3+l6CJxRivAOEALIrwPlDrSqgm\n",
       "wbRF46txOlvPirGtzxf4hGiIZb+2djTNBaDEbmYrPNSXebhXbb2jvexfFLfosc1bIg5wAAAAYEGb\n",
       "q0nhDyZTBRE8P//+qZYAA3o7xZTEA1VADi7z+tFs9P+opGdYrqsmQPPSYJAuTEpeYhwh96BIONIZ\n",
       "3DLfizgVOOEDq1qfbGEq1IgSfA1B8dAzvzHY9JTCfP4VMqT5wQAAACYBn8pqQ38AAdtO6TBWEpn5\n",
       "DQduYiqgQBsEVaqJOUoiGg63nXN13AAAAF1Bm8xJ4Q8mUwIf//6plgADeTjhwBrAxYnx3Lu80+iB\n",
       "F7BsV5kBvHIkdwmdHzv/CpAijHAOU3bhnNpXNRsNAw3SYebpASOJS7MVAPu+Q6wCOCmefi9kbAci\n",
       "gshG1gcAAAA8QZvtSeEPJlMCH//+qZYAA3k1FgAZloEXrJO8a02gf8vWrGupdwpBtprmfn6pli/M\n",
       "Ia2+sKR0pxbrHgFxAAAASUGaDknhDyZTAh///qmWAANp0KwAJxSMYpM3KWrs+OLReTZ/exg+SZco\n",
       "zx2EzZgy2dZ0xr1kxIWhvLXDA+urDy2OnXOBPth1tOcAAABiQZovSeEPJlMCH//+qZYAA3k4EwCB\n",
       "3bn3a4enFNVC/MKIeMz4YEdg1v81n3ht1CsM4uT3YWVK+tz6Uqs83y4N3Vwlb7iSdi6bAcNzQkLO\n",
       "4KMEXw5h/qxin5klF6jE72oQsUEAAABcQZpQSeEPJlMCH//+qZYAA3k1FgAUIAAjNX6kMhuleMDZ\n",
       "MOQbT/Ve14i9g3uN01GO4/CqfyFS5VWH+BacDfvSka2Fj93K+vQy7RHlq9JHWw77HHf1gCyKujZX\n",
       "QXgAAABRQZpxSeEPJlMCH//+qZYAAoIIyk2B8Z88LkAF0KaXsj9MUuYj5dIUJhR3YzbwFQyYbNof\n",
       "dBr8SF8Q407bZqnRcbHMgUzL2nXpresiIRpyz0LUAAAAc0GakknhDyZTAh///qmWAAN5OOHAEqDS\n",
       "u3GPZeXRp9Mhy9ZoLUXMxm8cOu50SeDtRWJuWT387HWec6SIpSiQTPao7tafPUUA5GvLJdFJoYxW\n",
       "WeeGl+2s0pLpkNlo9iThTzxBTRa7Y6rzz1+L1j4HPGWfnvcAAABFQZqzSeEPJlMCH//+qZYAA3k1\n",
       "FgAT10Y4kaEhl9TZQVqdOW9fT+CVLCzfJFSng3rZnGteJQFWHylwkazivu8luxqu2i/cAAAAQ0Ga\n",
       "1EnhDyZTAh///qmWAAJxP2VFBiYJEBrCQAfCR+VMe3XnPXHHMH13NC4c4kChTSEi9IUWrRiIbdGh\n",
       "9yZD01i2uikAAAA0QZr1SeEPJlMCH//+qZYAAmCr1sx4AN1iwGA2p6xwhdRrGUj5cyPHcDX7LIHR\n",
       "5mWC+MFesQAAACtBmxZJ4Q8mUwIf//6plgACYKvO3saf0s55ABAyhN3tuaLaQ6pkbg1aw1lAAAAA\n",
       "TUGbN0nhDyZTAh///qmWAAN5NRYADnuwIPUUsu9EbrXqO6BoRdm93TgU42swNKvnpnGqoKvpcXi8\n",
       "IBPiSefU8XzYelqAslyKTU2Jf0KnAAAAUkGbWEnhDyZTAh///qmWAANV8NHoprkYi75b0zx3t/qo\n",
       "50JYAVuGJQiVAfpN4p9ggQDt7BAGBsLry8L4aUzhSsJLDmFnLo343U7BtljTQ+hrCtEAAAA1QZt5\n",
       "SeEPJlMCH//+qZYAA1I8OVJqezhYbS6gzaFRfJKpf3GgBJX0SgdqRllMXiX0IY8TSSAAAABMQZua\n",
       "SeEPJlMCH//+qZYAA2UZihrZ/yLAHyjbE0dBsZnQywzgRP2fbor/G6QWAoIMXXMoloGiPPE8zxhy\n",
       "q87DmEJ+bLcmpYz1XR2AYQAAADNBm7tJ4Q8mUwIIf/6qVQAAyncX0fcNBNLdEIAVT9zcy4yjXdXb\n",
       "J2yWs3kRZigefXj7v+gAAAA/QZvcSeEPJlMCCH/+qlUAALx84QAE4pOhiwIftYgYijazSCKHf/Z9\n",
       "K7QODsj0ff80rCcSUsJvunr1Hc5ihQ2tAAAAQEGb/UnhDyZTAgh//qpVAADKNhXoPiAIT6LfRHmx\n",
       "WN9SFByHGtSyJzsuI8nznDpacchdvuF5TIEYd8agECDoSYEAAABGQZoBSeEPJlMCCH/+qlUAAJz9\n",
       "LzJbKNeqxuqbPSQALk/zsvquAHefkxHsX+48SZxhH+9cZNhd22twACtjDD70lZyPVyTPgAAAAEZB\n",
       "nj9FETw7/wABMHKrI66xKpBmd+SVr0/8EABa0T8HFNQQtjk50nl/cxqmqydRIYKTCQw6SpKcXAkt\n",
       "AusCF8T8N8k9wWowAAAAQAGeXnRDfwABh+rCRmDuAE1QWt0gUC63CZI1jQevbpluG3xHD01ymy8K\n",
       "6HX0fbEfaxwn2LD5g8WYDuC6HmI08iUAAAAvAZ5AakN/AAF+AJGqQAmmhwpar1JVjAbwVPoXoaD0\n",
       "zIqy4vyhX1pvUv6vOgcKVqAAAAAXQZpFSahBaJlMCG///qeEAASb6DgjjUkAAAAlQZ5jRREsO/8A\n",
       "AW8cYALUwOUbFt+lB5aG2+LuAFavM+/PiN3x3AAAABgBnoJ0Q38AAfvUAog2i4ehowfNbWl60d0A\n",
       "AAAXAZ6EakN/AAH8KMJKpjkUEP5BvEguRIEAAAWWbW9vdgAAAGxtdmhkAAAAAAAAAAAAAAAAAAAD\n",
       "6AAAG1gAAQAAAQAAAAAAAAAAAAAAAAEAAAAAAAAAAAAAAAAAAAABAAAAAAAAAAAAAAAAAABAAAAA\n",
       "AAAAAAAAAAAAAAAAAAAAAAAAAAAAAAAAAAAAAgAABMB0cmFrAAAAXHRraGQAAAADAAAAAAAAAAAA\n",
       "AAABAAAAAAAAG1gAAAAAAAAAAAAAAAAAAAAAAAEAAAAAAAAAAAAAAAAAAAABAAAAAAAAAAAAAAAA\n",
       "AABAAAAAAbAAAAEgAAAAAAAkZWR0cwAAABxlbHN0AAAAAAAAAAEAABtYAAAIAAABAAAAAAQ4bWRp\n",
       "YQAAACBtZGhkAAAAAAAAAAAAAAAAAAAoAAABGABVxAAAAAAALWhkbHIAAAAAAAAAAHZpZGUAAAAA\n",
       "AAAAAAAAAABWaWRlb0hhbmRsZXIAAAAD421pbmYAAAAUdm1oZAAAAAEAAAAAAAAAAAAAACRkaW5m\n",
       "AAAAHGRyZWYAAAAAAAAAAQAAAAx1cmwgAAAAAQAAA6NzdGJsAAAAs3N0c2QAAAAAAAAAAQAAAKNh\n",
       "dmMxAAAAAAAAAAEAAAAAAAAAAAAAAAAAAAAAAbABIABIAAAASAAAAAAAAAABAAAAAAAAAAAAAAAA\n",
       "AAAAAAAAAAAAAAAAAAAAAAAAAAAAGP//AAAAMWF2Y0MBZAAV/+EAGGdkABWs2UGwloQAAAMABAAA\n",
       "AwBQPFi2WAEABmjr48siwAAAABx1dWlka2hA8l8kT8W6OaUbzwMj8wAAAAAAAAAYc3R0cwAAAAAA\n",
       "AAABAAAARgAABAAAAAAUc3RzcwAAAAAAAAABAAAAAQAAAWBjdHRzAAAAAAAAACoAAAABAAAIAAAA\n",
       "AAEAABAAAAAAAgAABAAAAAABAAAIAAAAAAEAAAwAAAAAAQAABAAAAAABAAAMAAAAAAEAAAQAAAAA\n",
       "AQAAFAAAAAABAAAIAAAAAAEAAAAAAAAAAQAABAAAAAABAAAMAAAAAAEAAAQAAAAAAQAACAAAAAAB\n",
       "AAAUAAAAAAEAAAgAAAAAAQAAAAAAAAABAAAEAAAAAAEAABAAAAAAAgAABAAAAAABAAAMAAAAAAEA\n",
       "AAQAAAAAAQAAEAAAAAACAAAEAAAAAAEAAAwAAAAAAQAABAAAAAAJAAAIAAAAAAEAAAwAAAAAAQAA\n",
       "BAAAAAABAAAIAAAAAAEAAAwAAAAAAQAABAAAAAASAAAIAAAAAAEAABQAAAAAAQAACAAAAAABAAAA\n",
       "AAAAAAEAAAQAAAAAAQAAFAAAAAABAAAIAAAAAAEAAAAAAAAAAQAABAAAAAAcc3RzYwAAAAAAAAAB\n",
       "AAAAAQAAAEYAAAABAAABLHN0c3oAAAAAAAAAAAAAAEYAAA+/AAABcwAAAEcAAAA7AAAAsAAAAJgA\n",
       "AAAsAAAAgAAAACkAAAEiAAAAWAAAAD4AAABLAAABEQAAADsAAABeAAABLwAAAJYAAABLAAAAgwAA\n",
       "ATwAAADtAAAAtgAAAKwAAABDAAAAvwAAADoAAAA/AAAAiwAAADAAAABeAAAAZgAAAHAAAABzAAAA\n",
       "TQAAAG0AAABjAAAAZAAAAHAAAACJAAAANAAAAGQAAABkAAAAKgAAAGEAAABAAAAATQAAAGYAAABg\n",
       "AAAAVQAAAHcAAABJAAAARwAAADgAAAAvAAAAUQAAAFYAAAA5AAAAUAAAADcAAABDAAAARAAAAEoA\n",
       "AABKAAAARAAAADMAAAAbAAAAKQAAABwAAAAbAAAAFHN0Y28AAAAAAAAAAQAAACwAAABidWR0YQAA\n",
       "AFptZXRhAAAAAAAAACFoZGxyAAAAAAAAAABtZGlyYXBwbAAAAAAAAAAAAAAAAC1pbHN0AAAAJal0\n",
       "b28AAAAdZGF0YQAAAAEAAAAATGF2ZjU4LjIwLjEwMA==\n",
       "\">\n",
       "  Your browser does not support the video tag.\n",
       "</video>"
      ],
      "text/plain": [
       "<IPython.core.display.HTML object>"
      ]
     },
     "execution_count": 9,
     "metadata": {},
     "output_type": "execute_result"
    }
   ],
   "source": [
    "HTML(anim.to_html5_video())\n"
   ]
  },
  {
   "cell_type": "markdown",
   "metadata": {},
   "source": [
    "2 objects that move"
   ]
  }
 ],
 "metadata": {
  "kernelspec": {
   "display_name": "Python 3",
   "language": "python",
   "name": "python3"
  },
  "language_info": {
   "codemirror_mode": {
    "name": "ipython",
    "version": 3
   },
   "file_extension": ".py",
   "mimetype": "text/x-python",
   "name": "python",
   "nbconvert_exporter": "python",
   "pygments_lexer": "ipython3",
   "version": "3.7.5"
  }
 },
 "nbformat": 4,
 "nbformat_minor": 4
}
